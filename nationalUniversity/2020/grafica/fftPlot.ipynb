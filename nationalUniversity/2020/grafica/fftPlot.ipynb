{
 "cells": [
  {
   "cell_type": "markdown",
   "metadata": {},
   "source": [
    "# FFT Plot\n",
    "Real-time FFT plotting tool."
   ]
  },
  {
   "cell_type": "code",
   "execution_count": 1,
   "metadata": {},
   "outputs": [],
   "source": [
    "import time\n",
    "from time import sleep as ret\n",
    "import serial\n",
    "import matplotlib.pyplot as pl\n",
    "import numpy as np\n",
    "\n",
    "%matplotlib qt5"
   ]
  },
  {
   "cell_type": "code",
   "execution_count": 3,
   "metadata": {},
   "outputs": [
    {
     "name": "stdout",
     "output_type": "stream",
     "text": [
      "\n",
      "frdm-k64f - PlotFFT (Timeout: 5 seg.)\n",
      "----------------------------------------\n",
      "\n",
      "Lectura : rc -> CFFT - rm -> MODULO DE LA FFT\n",
      "\n",
      "Terminar conexion: qq\n",
      "\n",
      "1024 bytes de la UART (MOD FFT)\n"
     ]
    }
   ],
   "source": [
    "fftPoints=512\n",
    "fSample=8000\n",
    "qCuanto=15\n",
    "\n",
    "# ls -l /dev/serial/by-id/\n",
    " \n",
    "p = serial.Serial(\n",
    "    #Configurar con el puerto\n",
    "    port='/dev/ttyACM0',\t\n",
    "    baudrate=115200,\n",
    "    parity=serial.PARITY_NONE,\n",
    "    stopbits=serial.STOPBITS_ONE,\n",
    "    bytesize=serial.EIGHTBITS\n",
    ")\n",
    "\n",
    "p.isOpen()\n",
    "p.timeout=5\n",
    "\n",
    "print(\"\\nfrdm-k64f - PlotFFT (Timeout: {} seg.)\".format(p.timeout))\n",
    "\n",
    "# Panel inicial\n",
    "print(\"-\"*40)\n",
    "print(\"\\nLectura : rc -> CFFT - rm -> MODULO DE LA FFT\")\n",
    "print(\"\\nTerminar conexion: qq\\n\")\n",
    "\n",
    "cont=True\n",
    "\n",
    "while(cont):\n",
    "    #pide y limpia el comando\n",
    "    comm=input(\"comm$_: \").lower().strip()\n",
    "    if(comm=='qq'): \n",
    "        p.close()\n",
    "        cont=False\n",
    "    elif comm=='rc':\n",
    "        uart=bytearray(p.read(fftPoints*2*2))        \n",
    "        print(\"{} bytes de la UART (CFFT)\".format(len(uart)))\n",
    "        p.close()\n",
    "        cont=False\n",
    "    elif comm=='rm':\n",
    "        uart=bytearray(p.read(fftPoints*2))       \n",
    "        print(\"{} bytes de la UART (MOD FFT)\".format(len(uart)))\n",
    "        p.close()\n",
    "        cont=False\n",
    "    else:\n",
    "        #envia comando\n",
    "        print(\"FATAL_ERROR_ROMPISTETODO_CARLA\")        "
   ]
  },
  {
   "cell_type": "code",
   "execution_count": 4,
   "metadata": {},
   "outputs": [
    {
     "name": "stdout",
     "output_type": "stream",
     "text": [
      "Restaurando q15...\n",
      "Primer punto (HEX): 41f + 0j == BIN(   0b10000011111 +              0b0j)\n",
      "Graficando...\n"
     ]
    },
    {
     "ename": "SyntaxError",
     "evalue": "'return' outside function (<ipython-input-4-68582f021065>, line 59)",
     "output_type": "error",
     "traceback": [
      "\u001b[0;36m  File \u001b[0;32m\"<ipython-input-4-68582f021065>\"\u001b[0;36m, line \u001b[0;32m59\u001b[0m\n\u001b[0;31m    return\u001b[0m\n\u001b[0m    ^\u001b[0m\n\u001b[0;31mSyntaxError\u001b[0m\u001b[0;31m:\u001b[0m 'return' outside function\n"
     ]
    }
   ],
   "source": [
    "#unir los bytes para volver a formar los 16bits\n",
    "data16=[]\n",
    "for u in range(0,len(uart),2):\n",
    "    #Si: uart=[0x5F,0x64] -> 0x0000|0x064=0x0064 -> 0x0064<<8=0x6400 -> 0x6400|0x5F=0x645F == q15\n",
    "    q15=((uart[u+1]|0x0000)<<8)|uart[u]\n",
    "    data16.append(q15)\n",
    "\n",
    "print(\"Restaurando q15...\"); ret(.5)\n",
    "#format: {{index}:{width}{base}}\n",
    "print(\"Primer punto (HEX): {:x} + {:x}j == BIN({:#16b} + {:#16b}j)\".format(data16[0],data16[1],data16[0],data16[1]))\n",
    "\n",
    "#pasar a float las partes real e imaginaria \n",
    "#ECUACION: Float=(num + MSB*2**(-NB))*(-1**(MSB))\n",
    "#Si es positivo, hace la acumulacion de 2**(-1) hasta 2**(-15)\n",
    "#Si es negativo, luego de acumular suma 2**(-15) y multiplica por -1\n",
    "flot=[]\n",
    "for c in data16:\n",
    "    #acumular segun potencias negativas\n",
    "    bb=bin(c|0x10000)[3::]\n",
    "    fp=0\n",
    "    for s in range(1,len(bb)):\n",
    "        if bb[s]=='1': fp+=2**-s\n",
    "    #gestionar signo\n",
    "    if bb[0]=='1': fp=-(fp+2**-qCuanto)    \n",
    "    flot.append(fp)\n",
    "\n",
    "#si llego la CFFT\n",
    "if len(uart)==fftPoints*2*2:\n",
    "    #crear la lista con la fft compleja\n",
    "    cfft=[]\n",
    "    for cc in range(0,len(flot),2):\n",
    "        cfft.append(flot[cc]+1j*flot[cc+1])\n",
    "\n",
    "    print(\"Restaurando la FFT...\"); ret(.5)\n",
    "    print(\"{} PUNTOS: Primer punto de la FFT: {}\".format(len(cfft),cfft[0]))\n",
    "\n",
    "    #calcular el modulo de cada punto\n",
    "    mod=[]\n",
    "    for cc in cfft:\n",
    "        mod.append(abs(cc))\n",
    "\n",
    "    print(\"Calculando modulo...\"); ret(.5)\n",
    "    print(\"{} PUNTOS: Primer punto del espectro: {}\".format(len(mod),mod[0]))\n",
    "\n",
    "#sino, llego el modulo\n",
    "else: mod=flot\n",
    "\n",
    "#grafica el espectro\n",
    "print(\"Graficando...\"); ret(1)\n",
    "#pl.figure(figsize=(20,10))\n",
    "#pl.figure()\n",
    "\n",
    "#LIST: [A:B] -> elementos [A;B) - CONCATENAR: La=[a,b] y Lb=[c,d], La+Lb=[a,b,c,d] \n",
    "g=mod[(fftPoints//2)::]+mod[0:(fftPoints//2)]\n",
    "pl.plot(np.linspace(-fSample/2,fSample/2,fftPoints),g)\n",
    "pl.grid(which='both')\n",
    "pl.show()"
   ]
  },
  {
   "cell_type": "code",
   "execution_count": 9,
   "metadata": {},
   "outputs": [
    {
     "name": "stdout",
     "output_type": "stream",
     "text": [
      "0.312530517578125\n"
     ]
    }
   ],
   "source": [
    "datax=np.loadtxt(\"data.txt\")\n",
    "\n",
    "c=0x277F\n",
    "bb=bin(c|0x10000)[3::]\n",
    "fp=0\n",
    "for s in range(1,len(bb)):\n",
    "    if bb[s]=='1': fp+=2**-s\n",
    "#gestionar signo\n",
    "if bb[0]=='1': fp=-(fp+2**-qCuanto)    \n",
    "\n",
    "print(fp+(2**-15)*(128+2))\n",
    "\n",
    "\n"
   ]
  },
  {
   "cell_type": "markdown",
   "metadata": {},
   "source": [
    "A800\n",
    "-0.312530517578125\n",
    "277F"
   ]
  }
 ],
 "metadata": {
  "kernelspec": {
   "display_name": "Python 3",
   "language": "python",
   "name": "python3"
  },
  "language_info": {
   "codemirror_mode": {
    "name": "ipython",
    "version": 3
   },
   "file_extension": ".py",
   "mimetype": "text/x-python",
   "name": "python",
   "nbconvert_exporter": "python",
   "pygments_lexer": "ipython3",
   "version": "3.8.5"
  }
 },
 "nbformat": 4,
 "nbformat_minor": 4
}
