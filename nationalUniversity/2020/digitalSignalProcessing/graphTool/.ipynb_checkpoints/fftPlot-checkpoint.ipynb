{
 "cells": [
  {
   "cell_type": "markdown",
   "metadata": {},
   "source": [
    "# FFT Plot"
   ]
  },
  {
   "cell_type": "code",
   "execution_count": 2,
   "metadata": {},
   "outputs": [],
   "source": [
    "import time\n",
    "from time import sleep as ret\n",
    "import serial\n",
    "import matplotlib.pyplot as pl\n",
    "import numpy as np\n",
    "%matplotlib qt5"
   ]
  },
  {
   "cell_type": "code",
   "execution_count": 5,
   "metadata": {},
   "outputs": [
    {
     "name": "stdout",
     "output_type": "stream",
     "text": [
      "\n",
      "frdm-k64f - PlotFFT (Timeout: 5 seg.)\n",
      "----------------------------------------\n",
      "\n",
      "Lectura : rc -> CFFT - rm -> MODULO DE LA FFT\n",
      "\n",
      "Terminar conexion: qq\n",
      "\n"
     ]
    },
    {
     "name": "stdin",
     "output_type": "stream",
     "text": [
      "comm$_:  rm\n"
     ]
    },
    {
     "name": "stdout",
     "output_type": "stream",
     "text": [
      "1024 bytes de la UART (MOD FFT)\n",
      "Restaurando q15...\n",
      "Primer punto (HEX): 0 + 0j == BIN(             0b0 +              0b0j)\n",
      "Graficando...\n"
     ]
    },
    {
     "ename": "SerialException",
     "evalue": "Attempting to use a port that is not open",
     "output_type": "error",
     "traceback": [
      "\u001b[0;31m---------------------------------------------------------------------------\u001b[0m",
      "\u001b[0;31mSerialException\u001b[0m                           Traceback (most recent call last)",
      "\u001b[0;32m<ipython-input-5-402dbc7ac7bc>\u001b[0m in \u001b[0;36m<module>\u001b[0;34m\u001b[0m\n\u001b[1;32m     41\u001b[0m         \u001b[0mpl\u001b[0m\u001b[0;34m.\u001b[0m\u001b[0mfigure\u001b[0m\u001b[0;34m(\u001b[0m\u001b[0;34m)\u001b[0m\u001b[0;34m\u001b[0m\u001b[0;34m\u001b[0m\u001b[0m\n\u001b[1;32m     42\u001b[0m         \u001b[0;32mwhile\u001b[0m \u001b[0;32mTrue\u001b[0m\u001b[0;34m:\u001b[0m\u001b[0;34m\u001b[0m\u001b[0;34m\u001b[0m\u001b[0m\n\u001b[0;32m---> 43\u001b[0;31m             \u001b[0muart\u001b[0m\u001b[0;34m=\u001b[0m\u001b[0mbytearray\u001b[0m\u001b[0;34m(\u001b[0m\u001b[0mp\u001b[0m\u001b[0;34m.\u001b[0m\u001b[0mread\u001b[0m\u001b[0;34m(\u001b[0m\u001b[0mfftPoints\u001b[0m\u001b[0;34m*\u001b[0m\u001b[0;36m2\u001b[0m\u001b[0;34m)\u001b[0m\u001b[0;34m)\u001b[0m\u001b[0;34m\u001b[0m\u001b[0;34m\u001b[0m\u001b[0m\n\u001b[0m\u001b[1;32m     44\u001b[0m             \u001b[0mprint\u001b[0m\u001b[0;34m(\u001b[0m\u001b[0;34m\"{} bytes de la UART (MOD FFT)\"\u001b[0m\u001b[0;34m.\u001b[0m\u001b[0mformat\u001b[0m\u001b[0;34m(\u001b[0m\u001b[0mlen\u001b[0m\u001b[0;34m(\u001b[0m\u001b[0muart\u001b[0m\u001b[0;34m)\u001b[0m\u001b[0;34m)\u001b[0m\u001b[0;34m)\u001b[0m\u001b[0;34m\u001b[0m\u001b[0;34m\u001b[0m\u001b[0m\n\u001b[1;32m     45\u001b[0m             \u001b[0mgraficar\u001b[0m\u001b[0;34m(\u001b[0m\u001b[0;34m)\u001b[0m\u001b[0;34m\u001b[0m\u001b[0;34m\u001b[0m\u001b[0m\n",
      "\u001b[0;32m~/procom/env38/lib/python3.8/site-packages/serial/serialposix.py\u001b[0m in \u001b[0;36mread\u001b[0;34m(self, size)\u001b[0m\n\u001b[1;32m    476\u001b[0m         \"\"\"\n\u001b[1;32m    477\u001b[0m         \u001b[0;32mif\u001b[0m \u001b[0;32mnot\u001b[0m \u001b[0mself\u001b[0m\u001b[0;34m.\u001b[0m\u001b[0mis_open\u001b[0m\u001b[0;34m:\u001b[0m\u001b[0;34m\u001b[0m\u001b[0;34m\u001b[0m\u001b[0m\n\u001b[0;32m--> 478\u001b[0;31m             \u001b[0;32mraise\u001b[0m \u001b[0mportNotOpenError\u001b[0m\u001b[0;34m\u001b[0m\u001b[0;34m\u001b[0m\u001b[0m\n\u001b[0m\u001b[1;32m    479\u001b[0m         \u001b[0mread\u001b[0m \u001b[0;34m=\u001b[0m \u001b[0mbytearray\u001b[0m\u001b[0;34m(\u001b[0m\u001b[0;34m)\u001b[0m\u001b[0;34m\u001b[0m\u001b[0;34m\u001b[0m\u001b[0m\n\u001b[1;32m    480\u001b[0m         \u001b[0mtimeout\u001b[0m \u001b[0;34m=\u001b[0m \u001b[0mTimeout\u001b[0m\u001b[0;34m(\u001b[0m\u001b[0mself\u001b[0m\u001b[0;34m.\u001b[0m\u001b[0m_timeout\u001b[0m\u001b[0;34m)\u001b[0m\u001b[0;34m\u001b[0m\u001b[0;34m\u001b[0m\u001b[0m\n",
      "\u001b[0;31mSerialException\u001b[0m: Attempting to use a port that is not open"
     ]
    }
   ],
   "source": [
    "fftPoints=512\n",
    "fSample=8000\n",
    "qCuanto=15\n",
    "cantBuffer=1\n",
    "\n",
    "# ls -l /dev/serial/by-id/\n",
    " \n",
    "p = serial.Serial(\n",
    "    #Configurar con el puerto\n",
    "    port='/dev/ttyACM0',\t\n",
    "    baudrate=115200,\n",
    "    parity=serial.PARITY_NONE,\n",
    "    stopbits=serial.STOPBITS_ONE,\n",
    "    bytesize=serial.EIGHTBITS\n",
    ")\n",
    "\n",
    "p.isOpen()\n",
    "p.timeout=5\n",
    "\n",
    "print(\"\\nfrdm-k64f - PlotFFT (Timeout: {} seg.)\".format(p.timeout))\n",
    "\n",
    "# Panel inicial\n",
    "print(\"-\"*40)\n",
    "print(\"\\nLectura : rc -> CFFT - rm -> MODULO DE LA FFT\")\n",
    "print(\"\\nTerminar conexion: qq\\n\")\n",
    "\n",
    "cont=True\n",
    "\n",
    "while(cont):\n",
    "    #pide y limpia el comando\n",
    "    comm=input(\"comm$_: \").lower().strip()\n",
    "    if(comm=='qq'): \n",
    "        p.close()\n",
    "        cont=False\n",
    "    elif comm=='rc':\n",
    "        uart=bytearray(p.read(fftPoints*2*2))        \n",
    "        print(\"{} bytes de la UART (CFFT)\".format(len(uart)))\n",
    "        p.close()\n",
    "        cont=False\n",
    "    elif comm=='rm':\n",
    "        pl.figure()\n",
    "        while True:\n",
    "            uart=bytearray(p.read(fftPoints*2))       \n",
    "            print(\"{} bytes de la UART (MOD FFT)\".format(len(uart)))\n",
    "            graficar()\n",
    "            pl.pause(.1)\n",
    "            #p.close()\n",
    "            #cont=False\n",
    "    else:\n",
    "        #envia comando\n",
    "        print(\"FATAL_ERROR_ROMPISTETODO_CARLA\")        "
   ]
  },
  {
   "cell_type": "code",
   "execution_count": 4,
   "metadata": {},
   "outputs": [],
   "source": [
    "def graficar():\n",
    "    #unir los bytes para volver a formar los 16bits\n",
    "    data16=[]\n",
    "    for u in range(0,len(uart),2):\n",
    "        #Si: uart=[0x5F,0x64] -> 0x0000|0x064=0x0064 -> 0x0064<<8=0x6400 -> 0x6400|0x5F=0x645F == q15\n",
    "        q15=((uart[u+1]|0x0000)<<8)|uart[u]\n",
    "        data16.append(q15)\n",
    "\n",
    "    print(\"Restaurando q15...\"); ret(.5)\n",
    "    #format: {{index}:{width}{base}}\n",
    "    print(\"Primer punto (HEX): {:x} + {:x}j == BIN({:#16b} + {:#16b}j)\".format(data16[0],data16[1],data16[0],data16[1]))\n",
    "\n",
    "    #pasar a float las partes real e imaginaria \n",
    "    #ECUACION: Float=(num + MSB*2**(-NB))*(-1**(MSB))\n",
    "    #Si es positivo, hace la acumulacion de 2**(-1) hasta 2**(-15)\n",
    "    #Si es negativo, luego de acumular suma 2**(-15) y multiplica por -1\n",
    "    flot=[]\n",
    "    for c in data16:\n",
    "        #acumular segun potencias negativas\n",
    "        bb=bin(c|0x10000)[3::]\n",
    "        fp=0\n",
    "        for s in range(1,len(bb)):\n",
    "            if bb[s]=='1': fp+=2**-s\n",
    "        #gestionar signo\n",
    "        if bb[0]=='1': fp=-(fp+2**-qCuanto)    \n",
    "        flot.append(fp)\n",
    "\n",
    "    if len(uart)==fftPoints*2*2:\n",
    "        #crear la lista con la fft compleja\n",
    "        cfft=[]\n",
    "        for cc in range(0,len(flot),2):\n",
    "            cfft.append(flot[cc]+1j*flot[cc+1])\n",
    "\n",
    "        print(\"Restaurando la FFT...\"); ret(.5)\n",
    "        print(\"{} PUNTOS: Primer punto de la FFT: {}\".format(len(cfft),cfft[0]))\n",
    "\n",
    "        #calcular el modulo de cada punto\n",
    "        mod=[]\n",
    "        for cc in cfft:\n",
    "            mod.append(abs(cc))\n",
    "\n",
    "        print(\"Calculando modulo...\"); ret(.5)\n",
    "        print(\"{} PUNTOS: Primer punto del espectro: {}\".format(len(mod),mod[0]))\n",
    "\n",
    "    else: mod=flot\n",
    "\n",
    "    # #grafica el espectro\n",
    "    print(\"Graficando...\"); ret(1)\n",
    "    #pl.figure(figsize=(20,10))\n",
    "    #pl.figure()\n",
    "\n",
    "    #LIST: [A:B] -> elementos [A;B) - CONCATENAR: La=[a,b] y Lb=[c,d], La+Lb=[a,b,c,d] \n",
    "    g=mod[(fftPoints//2)::]+mod[0:(fftPoints//2)]\n",
    "    pl.plot(np.linspace(-fSample/2,fSample/2,fftPoints),g)\n",
    "    #pl.grid(which='both')\n",
    "    #pl.show()\n",
    "    \n",
    "    return"
   ]
  },
  {
   "cell_type": "code",
   "execution_count": 9,
   "metadata": {},
   "outputs": [
    {
     "name": "stdout",
     "output_type": "stream",
     "text": [
      "0.312530517578125\n"
     ]
    }
   ],
   "source": [
    "datax=np.loadtxt(\"data.txt\")\n",
    "\n",
    "c=0x277F\n",
    "bb=bin(c|0x10000)[3::]\n",
    "fp=0\n",
    "for s in range(1,len(bb)):\n",
    "    if bb[s]=='1': fp+=2**-s\n",
    "#gestionar signo\n",
    "if bb[0]=='1': fp=-(fp+2**-qCuanto)    \n",
    "\n",
    "print(fp+(2**-15)*(128+2))\n",
    "\n",
    "\n"
   ]
  },
  {
   "cell_type": "markdown",
   "metadata": {},
   "source": [
    "A800\n",
    "-0.312530517578125\n",
    "277F"
   ]
  }
 ],
 "metadata": {
  "kernelspec": {
   "display_name": "Python 3",
   "language": "python",
   "name": "python3"
  },
  "language_info": {
   "codemirror_mode": {
    "name": "ipython",
    "version": 3
   },
   "file_extension": ".py",
   "mimetype": "text/x-python",
   "name": "python",
   "nbconvert_exporter": "python",
   "pygments_lexer": "ipython3",
   "version": "3.8.5"
  }
 },
 "nbformat": 4,
 "nbformat_minor": 4
}
