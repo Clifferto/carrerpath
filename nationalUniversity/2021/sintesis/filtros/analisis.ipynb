{
 "cells": [
  {
   "cell_type": "code",
   "execution_count": 2,
   "metadata": {},
   "outputs": [],
   "source": [
    "# modulos\n",
    "import sympy as sp\n",
    "\n",
    "# simbolos generales\n",
    "s,R1,R2,R3,C1,C2,Vi,Vo,Vx,V=sp.symbols(\"s,R1,R2,R3,C1,C2,Vi,Vo,Vx,V\")\n",
    "\n",
    "g1=1/R1\n",
    "g2=1/R2\n",
    "X2=1/(s*C2)"
   ]
  },
  {
   "cell_type": "markdown",
   "metadata": {},
   "source": [
    "# Sallen-Key"
   ]
  },
  {
   "cell_type": "code",
   "execution_count": 90,
   "metadata": {},
   "outputs": [
    {
     "name": "stdout",
     "output_type": "stream",
     "text": [
      "                       s                        \n",
      "────────────────────────────────────────────────\n",
      " 2     ⎛            1       1  ⎞     1       w₂ \n",
      "s  + s⋅⎜w₂₁ + 1 + ───── + ─────⎟ + ───── + ─────\n",
      "       ⎝          C₂⋅R₃   C₁⋅R₃⎠   C₂⋅R₃   C₁⋅R₃\n",
      "   ⎛           1       1    1 ⎞   Vi   Vo\n",
      "Vx⋅⎜C₁⋅s + ───────── + ── + ──⎟ - ── = ──\n",
      "   ⎜             1     R₂   R₁⎟   R₁   R₂\n",
      "   ⎜       R₃ + ────          ⎟          \n",
      "   ⎝            C₂⋅s          ⎠          \n",
      "      R₃⋅Vx  \n",
      "V = ─────────\n",
      "          1  \n",
      "    R₃ + ────\n",
      "         C₂⋅s\n"
     ]
    }
   ],
   "source": [
    "s,R1,R2,R3,C1,C2,Vi,Vo,Vx,V=sp.symbols(\"s,R1,R2,R3,C1,C2,Vi,Vo,Vx,V\")\n",
    "\n",
    "g1=1/R1\n",
    "g2=1/R2\n",
    "X2=1/(s*C2)\n",
    "\n",
    "# ecuacion para TFF\n",
    "eq0=sp.Eq(V/Vi,(R3/(R3+X2))*(g1/(g1+g2+s*C1+1/(X2+R3))))\n",
    "n0,d0=sp.fraction(eq0.rhs)\n",
    "\n",
    "d0=sp.collect(sp.simplify(d0*s/(C1*R1*R3)),s)\n",
    "n0=sp.simplify(n0*s/(C1*R1*R3))\n",
    "\n",
    "\n",
    "\n",
    "TFF=n0/d0\n",
    "TFF=TFF.subs(1/(C1*R1),1).subs(1/(C2*R2),sp.symbols(\"w2\"))\n",
    "TFF=TFF.subs(1/(R2*C1),sp.symbols(\"w21\"))\n",
    "sp.pprint(TFF)\n",
    "\n",
    "\n",
    "eq1=sp.Eq(Vx*(g1+g2+s*C1+1/(X2+R3))-Vi*g1,Vo*g2)\n",
    "eq2=sp.Eq(V,Vx*R3/(R3+X2))\n",
    "\n",
    "\n",
    "\n",
    "sp.pprint(eq1,wrap_line=False)\n",
    "sp.pprint(eq2,wrap_line=False)\n"
   ]
  },
  {
   "cell_type": "markdown",
   "metadata": {},
   "source": [
    "# Negative feedback"
   ]
  },
  {
   "cell_type": "code",
   "execution_count": 27,
   "metadata": {},
   "outputs": [
    {
     "name": "stdout",
     "output_type": "stream",
     "text": [
      "Vo               -1              \n",
      "── = ────────────────────────────\n",
      "Vi      ⎛                     1 ⎞\n",
      "        ⎜       C₁⋅s + C₂⋅s + ──⎟\n",
      "        ⎜                     R₁⎟\n",
      "     R₁⋅⎜C₂⋅s + ────────────────⎟\n",
      "        ⎝           C₁⋅R₂⋅s     ⎠\n",
      " 2     ⎛  1       1  ⎞        1     \n",
      "s  + s⋅⎜───── + ─────⎟ + ───────────\n",
      "       ⎝C₂⋅R₂   C₁⋅R₂⎠   C₁⋅C₂⋅R₁⋅R₂\n",
      "                    -s                      \n",
      "────────────────────────────────────────────\n",
      "      ⎛ 2     ⎛  1       1  ⎞        1     ⎞\n",
      "C₂⋅R₁⋅⎜s  + s⋅⎜───── + ─────⎟ + ───────────⎟\n",
      "      ⎝       ⎝C₂⋅R₂   C₁⋅R₂⎠   C₁⋅C₂⋅R₁⋅R₂⎠\n",
      "         -s⋅w₁₂          \n",
      "─────────────────────────\n",
      " 2                       \n",
      "s  + s⋅(w₂ + w₂₁) + w₁⋅w₂\n",
      "         -s*w12          \n",
      "-------------------------\n",
      " 2                       \n",
      "s  + s*(w2 + w21) + w1*w2\n"
     ]
    }
   ],
   "source": [
    "# ecuacion para TFF\n",
    "eq0=sp.Eq(Vo/Vi,-g1/((g2/(s*C1))*(g1+s*C2+s*C1)+s*C2))\n",
    "sp.pprint(eq0)\n",
    "\n",
    "# obtener fraccion\n",
    "n0,d0=sp.fraction(eq0.rhs)\n",
    "\n",
    "# simplificar y aplicar distributivas\n",
    "sp.pprint(sp.collect(sp.expand(d0*s*1/(C2*R1)),s))\n",
    "\n",
    "d0=sp.collect(sp.expand(d0*s*1/(C2*R1)),s)\n",
    "n0=sp.collect(sp.expand(n0*s*1/(C2*R1)),s)\n",
    "\n",
    "# funcion de transferencia final\n",
    "T=n0/d0\n",
    "sp.pprint(T)\n",
    "\n",
    "# simplificar factores\n",
    "w1,w2,w12,w21=sp.symbols(\"w1,w2,w12,w21\")\n",
    "sp.pprint(T.subs(1/(R1*C1),w1).subs(1/(R2*C2),w2).subs(1/(R1*C2),w12).subs(1/(R2*C1),w21))\n",
    "sp.pretty_print(T.subs(1/(R1*C1),w1).subs(1/(R2*C2),w2).subs(1/(R1*C2),w12).subs(1/(R2*C1),w21),use_unicode=False)\n",
    "\n",
    "\n",
    "\n"
   ]
  },
  {
   "cell_type": "code",
   "execution_count": null,
   "metadata": {},
   "outputs": [],
   "source": []
  }
 ],
 "metadata": {
  "kernelspec": {
   "display_name": "Python 3.8.10 64-bit ('envPy38': venv)",
   "language": "python",
   "name": "python3"
  },
  "language_info": {
   "codemirror_mode": {
    "name": "ipython",
    "version": 3
   },
   "file_extension": ".py",
   "mimetype": "text/x-python",
   "name": "python",
   "nbconvert_exporter": "python",
   "pygments_lexer": "ipython3",
   "version": "3.8.10"
  },
  "orig_nbformat": 4,
  "vscode": {
   "interpreter": {
    "hash": "6b73abfbbecf72af9fed660ac2982926a78e3da32d139dac9b072e46ecc98b86"
   }
  }
 },
 "nbformat": 4,
 "nbformat_minor": 2
}
