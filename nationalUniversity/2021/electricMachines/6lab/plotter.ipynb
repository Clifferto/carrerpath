{
 "cells": [
  {
   "cell_type": "code",
   "execution_count": 58,
   "metadata": {},
   "outputs": [],
   "source": [
    "import numpy as np\n",
    "import matplotlib.pyplot as plt\n",
    "%matplotlib qt5"
   ]
  },
  {
   "cell_type": "code",
   "execution_count": 128,
   "metadata": {},
   "outputs": [
    {
     "name": "stdout",
     "output_type": "stream",
     "text": [
      "Potencia a punta de eje (Pu):\n",
      "62.62\n",
      "156.24\n",
      "311.02\n",
      "464.33\n",
      "616.17\n",
      "764.98\n",
      "913.58\n",
      "1059.97\n",
      "1203.86\n",
      "\n",
      "Rendimiento:\n",
      "0.17\n",
      "0.33\n",
      "0.47\n",
      "0.57\n",
      "0.64\n",
      "0.67\n",
      "0.69\n",
      "0.71\n",
      "0.72\n",
      "\n",
      "Resbalamiento (S%):\n",
      "0.33\n",
      "0.53\n",
      "1.00\n",
      "1.47\n",
      "1.93\n",
      "2.60\n",
      "3.07\n",
      "3.60\n",
      "4.20\n"
     ]
    }
   ],
   "source": [
    "#cargar datos desde archivo\n",
    "\n",
    "#carga de datos desde archivo e indexacion de columnas\n",
    "data=np.loadtxt(\"./untitled.txt\")\n",
    "ncol=5\n",
    "colName=['U','M','I1','P','n']\n",
    "\n",
    "#cargar los datos en un diccionario\n",
    "tab={}\n",
    "for i in range(ncol):\n",
    "    aux0=[]\n",
    "    for e in range(i,len(data),ncol):\n",
    "        aux0.append(data[e])\n",
    "    \n",
    "    tab.update({colName[i]:aux0})\n",
    "\n",
    "#calculo de variables indirectas (rendimientos,resbalamiento..)    \n",
    "fx=('M','s')\n",
    "unid=('Nm[Newton.Metro]','S[%]')\n",
    "\n",
    "aux0=list(i*j*(2*np.pi/60) for i,j in zip(tab['M'],tab['n']))\n",
    "tab.update({'Pu':aux0})\n",
    "\n",
    "aux0=list(i/(j*3) for i,j in zip(tab['Pu'],tab['P']))\n",
    "tab.update({'Rendimiento':aux0})\n",
    "\n",
    "velsinc=60*50/2\n",
    "aux0=list(100*((velsinc-i)/velsinc) for i in tab['n'])\n",
    "tab.update({'s':aux0})\n",
    "\n",
    "print(\"Potencia a punta de eje (Pu):\")\n",
    "for i in tab['Pu']:\n",
    "    print(\"{:.2f}\".format(i))\n",
    "    \n",
    "print(\"\\nRendimiento:\")\n",
    "for i in tab['Rendimiento']:\n",
    "    print(\"{:.2f}\".format(i))\n",
    "\n",
    "print(\"\\nResbalamiento (S%):\")\n",
    "for i in tab['s']:\n",
    "    print(\"{:.2f}\".format(i))   \n",
    "\n",
    "\n",
    "# #graficas de los parametros\n",
    "# plt.figure()\n",
    "# plt.title(\"Caracteristica: {} vs {}\".format(fx[0],fx[1]))\n",
    "# plt.plot(tab[fx[1]],tab[fx[0]])\n",
    "# plt.xlabel(unid[1])\n",
    "# plt.ylabel(unid[0])\n",
    "# plt.xlim(0,)\n",
    "# plt.ylim(0,)\n",
    "# plt.grid()\n",
    "# plt.show()"
   ]
  },
  {
   "cell_type": "code",
   "execution_count": null,
   "metadata": {},
   "outputs": [],
   "source": []
  }
 ],
 "metadata": {
  "kernelspec": {
   "display_name": "Python 3",
   "language": "python",
   "name": "python3"
  },
  "language_info": {
   "codemirror_mode": {
    "name": "ipython",
    "version": 3
   },
   "file_extension": ".py",
   "mimetype": "text/x-python",
   "name": "python",
   "nbconvert_exporter": "python",
   "pygments_lexer": "ipython3",
   "version": "3.8.10"
  }
 },
 "nbformat": 4,
 "nbformat_minor": 4
}
