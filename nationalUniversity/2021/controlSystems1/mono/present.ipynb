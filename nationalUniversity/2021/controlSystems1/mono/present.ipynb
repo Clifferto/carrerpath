{
 "cells": [
  {
   "cell_type": "markdown",
   "metadata": {},
   "source": [
    "# Analisis"
   ]
  },
  {
   "cell_type": "code",
   "execution_count": 1,
   "metadata": {},
   "outputs": [],
   "source": [
    "# Modulos\n",
    "import numpy as np\n",
    "import matplotlib.pyplot as plt\n",
    "import sympy as spy\n",
    "import control as ctl\n",
    "from sympy.core.compatibility import iterable\n",
    "from reliability.Other_functions import crosshairs as csr\n",
    "%matplotlib qt\n",
    "\n",
    "# Funciones auxiliares\n",
    "def mem2mem(equation,opp):\n",
    "    \"\"\"mem2mem:\n",
    "        Aplica una operacion sencilla en ambos miembros de una ecuacion.\n",
    "\n",
    "    Args:\n",
    "        equation: Ecuacion a operar.\n",
    "        opp: Termino para operar en ambos miembros.\n",
    "\n",
    "    Returns: \n",
    "        Ecuacion de resultado luego de operar.\n",
    "    \"\"\"\n",
    "    sel=opp[0]\n",
    "    expr=spy.sympify(opp[1::])\n",
    "    \n",
    "    if sel==\"+\":\n",
    "        return spy.Eq(equation.lhs+expr,equation.rhs+expr)\n",
    "    elif sel==\"-\":\n",
    "        return spy.Eq(equation.lhs-expr,equation.rhs-expr)\n",
    "    elif sel==\"*\":\n",
    "        return spy.Eq(equation.lhs*expr,equation.rhs*expr)\n",
    "    elif sel==\"/\":\n",
    "        return spy.Eq(equation.lhs/expr,equation.rhs/expr)\n",
    "\n",
    "def disp(ecuaciones,titulo=\"\"):\n",
    "    print(titulo + \"\\n\")\n",
    "    \n",
    "    if type(ecuaciones)!=iterable:\n",
    "        spy.pprint(ecuaciones)\n",
    "    \n",
    "    else:\n",
    "        for ecc in ecuaciones:\n",
    "            spy.pprint(ecc)\n",
    "\n",
    "    print(\"\\n\" + \"-\"*80)"
   ]
  },
  {
   "cell_type": "code",
   "execution_count": 2,
   "metadata": {},
   "outputs": [
    {
     "name": "stdout",
     "output_type": "stream",
     "text": [
      "Ecuaciones:\n",
      "\n",
      "(V = Im⋅(lm⋅s + rm) + Wm⋅kv, Tm = T₁ + Wm⋅(Jm⋅s + bm), T₂ = W₂⋅(J⋅s + b₂))\n",
      "\n",
      "--------------------------------------------------------------------------------\n",
      "Cancelar T1 y T2:\n",
      "\n",
      "(V = Im⋅(lm⋅s + rm) + Wm⋅kv, 0 = -Jm⋅Wm⋅s + Tm - W₂⋅n⋅(J⋅s + b₂) - Wm⋅bm)\n",
      "\n",
      "--------------------------------------------------------------------------------\n",
      "Cancelar Im y Tm:\n",
      "\n",
      "                                           km⋅(V - Wm⋅kv)\n",
      "0 = J⋅W₂⋅n⋅s + Jm⋅Wm⋅s + W₂⋅b₂⋅n + Wm⋅bm - ──────────────\n",
      "                                             lm⋅s + rm   \n",
      "\n",
      "--------------------------------------------------------------------------------\n",
      "Resolver para W2/V:\n",
      "\n",
      "W₂                                             km⋅n                           \n",
      "── = ─────────────────────────────────────────────────────────────────────────\n",
      "V        2                       2 ⎛      2        ⎞     ⎛   2                \n",
      "     b₂⋅n ⋅rm + bm⋅rm + km⋅kv + s ⋅⎝J⋅lm⋅n  + Jm⋅lm⎠ + s⋅⎝J⋅n ⋅rm + Jm⋅rm + b₂\n",
      "\n",
      "               \n",
      "───────────────\n",
      "     2        ⎞\n",
      "⋅lm⋅n  + bm⋅lm⎠\n",
      "\n",
      "--------------------------------------------------------------------------------\n",
      "Funcion de transferencia:\n",
      "\n",
      "P₂                                               km⋅n                         \n",
      "── = ─────────────────────────────────────────────────────────────────────────\n",
      "V      ⎛    2                       2 ⎛      2        ⎞     ⎛   2             \n",
      "     s⋅⎝b₂⋅n ⋅rm + bm⋅rm + km⋅kv + s ⋅⎝J⋅lm⋅n  + Jm⋅lm⎠ + s⋅⎝J⋅n ⋅rm + Jm⋅rm +\n",
      "\n",
      "                   \n",
      "───────────────────\n",
      "        2        ⎞⎞\n",
      " b₂⋅lm⋅n  + bm⋅lm⎠⎠\n",
      "\n",
      "--------------------------------------------------------------------------------\n",
      "Funcion de transferencia a lazo abierto:\n",
      "\n",
      "                                             Av⋅km⋅n⋅pwm⋅ssr                  \n",
      "FTLA = ───────────────────────────────────────────────────────────────────────\n",
      "         ⎛    2                       2 ⎛      2        ⎞     ⎛   2           \n",
      "       s⋅⎝b₂⋅n ⋅rm + bm⋅rm + km⋅kv + s ⋅⎝J⋅lm⋅n  + Jm⋅lm⎠ + s⋅⎝J⋅n ⋅rm + Jm⋅rm\n",
      "\n",
      "                     \n",
      "─────────────────────\n",
      "          2        ⎞⎞\n",
      " + b₂⋅lm⋅n  + bm⋅lm⎠⎠\n",
      "\n",
      "--------------------------------------------------------------------------------\n"
     ]
    }
   ],
   "source": [
    "#ecuaciones\n",
    "# V = Im*(rm+lm*s) + kv*Wm\n",
    "# Tm = Wm*(Jm*s + bm) + T1\n",
    "# T2 = W2*(J*s + b2)\n",
    "V,Im,rm,lm,kv,Wm=spy.symbols(\"V,Im,rm,lm,kv,Wm\")\n",
    "Tm,Jm,s,bm,T1=spy.symbols(\"Tm,Jm,s,bm,T1\")\n",
    "T2,W2,J,b2=spy.symbols(\"T2,W2,J,b2\")\n",
    "\n",
    "eqq1=spy.Eq(V,Im*(rm+lm*s) + kv*Wm)\n",
    "eqq2=spy.Eq(Tm,Wm*(Jm*s + bm) + T1)\n",
    "eqq3=spy.Eq(T2,W2*(J*s + b2))\n",
    "\n",
    "disp((eqq1,eqq2,eqq3),\"Ecuaciones:\")\n",
    "\n",
    "#igualdades auxiliares\n",
    "# Tm = km*Im\n",
    "# n = N1/N2 = W2/W1 = T1/T2\n",
    "km,Im,n=spy.symbols(\"km,Im,n\")\n",
    "\n",
    "#cancelar T1 y T1\n",
    "aux0=spy.Eq(T1,spy.solve(eqq2,T1)[0])\n",
    "aux1=mem2mem(eqq3,\"*n\").replace(T2*n,T1)\n",
    "\n",
    "aux2=spy.Eq(aux0.lhs-aux1.lhs,aux0.rhs-aux1.rhs)\n",
    "\n",
    "disp((eqq1,aux2),\"Cancelar T1 y T2:\")\n",
    "\n",
    "#cancelar Tm e Im\n",
    "aux3=spy.Eq(Tm,spy.solve(aux2,Tm)[0])\n",
    "aux4=spy.Eq(Im,spy.solve(eqq1,Im)[0])\n",
    "aux4=mem2mem(aux4,\"*km\").replace(Im*km,Tm)\n",
    "\n",
    "aux5=spy.Eq(aux3.lhs-aux4.lhs,aux3.rhs-aux4.rhs)\n",
    "\n",
    "disp(aux5,\"Cancelar Im y Tm:\")\n",
    "\n",
    "#resolver para W2/V\n",
    "aux6=spy.Eq(Wm,spy.solve(aux5,Wm)[0])\n",
    "aux6=mem2mem(aux6,\"*n\").replace(Wm*n,W2)\n",
    "\n",
    "aux7=spy.Eq(W2,spy.solve(aux6,W2)[0])\n",
    "aux7=mem2mem(aux7,\"/V\")\n",
    "\n",
    "aux7=spy.Eq(W2/V,aux7.rhs.collect(s))\n",
    "\n",
    "disp(aux7,\"Resolver para W2/V:\")\n",
    "\n",
    "#armar funcion de transferencia G = P2/V\n",
    "aux8=mem2mem(aux7,\"/s\")\n",
    "\n",
    "P2=spy.symbols(\"P2\")\n",
    "eqqG=spy.Eq(P2/V,aux8.rhs)\n",
    "\n",
    "disp(eqqG,\"Funcion de transferencia:\")\n"
   ]
  },
  {
   "cell_type": "markdown",
   "metadata": {},
   "source": [
    "# Funcion de transferencia a lazo abierto"
   ]
  },
  {
   "cell_type": "code",
   "execution_count": 3,
   "metadata": {},
   "outputs": [
    {
     "name": "stdout",
     "output_type": "stream",
     "text": [
      "Funcion de transferencia a lazo abierto:\n",
      "\n",
      "                                             Av⋅km⋅n⋅pwm⋅ssr                  \n",
      "FTLA = ───────────────────────────────────────────────────────────────────────\n",
      "         ⎛    2                       2 ⎛      2        ⎞     ⎛   2           \n",
      "       s⋅⎝b₂⋅n ⋅rm + bm⋅rm + km⋅kv + s ⋅⎝J⋅lm⋅n  + Jm⋅lm⎠ + s⋅⎝J⋅n ⋅rm + Jm⋅rm\n",
      "\n",
      "                     \n",
      "─────────────────────\n",
      "          2        ⎞⎞\n",
      " + b₂⋅lm⋅n  + bm⋅lm⎠⎠\n",
      "\n",
      "--------------------------------------------------------------------------------\n"
     ]
    }
   ],
   "source": [
    "#armar funcion de transferencia de lazo abierto\n",
    "ssr,pwm,Av,FTLA=spy.symbols(\"ssr,pwm,Av,FTLA\")\n",
    "\n",
    "eqqFTLA=spy.Eq(FTLA,ssr*pwm*Av*eqqG.rhs)\n",
    "\n",
    "disp(eqqFTLA,\"Funcion de transferencia a lazo abierto:\")"
   ]
  },
  {
   "cell_type": "markdown",
   "metadata": {},
   "source": [
    "# Planta final"
   ]
  },
  {
   "cell_type": "code",
   "execution_count": 4,
   "metadata": {},
   "outputs": [
    {
     "name": "stdout",
     "output_type": "stream",
     "text": [
      "Planta:\n",
      "\n",
      "                                    4.623e-5                             \n",
      "FTLA = ──────────────────────────────────────────────────────────────────\n",
      "                             3                        2                  \n",
      "       9.48596511360217e-11⋅s  + 4.27827325926497e-6⋅s  + 0.00208858975⋅s\n",
      "\n",
      "--------------------------------------------------------------------------------\n",
      "Coeficientes:\n",
      "([4.62300000000000e-5], [9.48596511360217e-11, 4.27827325926497e-6, 0.00208858975000000, 0])\n"
     ]
    }
   ],
   "source": [
    "#parametros de la planta\n",
    "#sensor(V/°): +/-5V a +/- 20°\n",
    "ppssr=5/20\n",
    "#pwm(%D/V): +/-5V es +/-100D%\n",
    "pppwm=1/5 \n",
    "#ganancia(V/%D): +/-100D% son +/-12V\n",
    "ppAv=12/100\n",
    "\n",
    "eqqFTLA=eqqFTLA.subs({ssr:ppssr, \n",
    "                      pwm:pppwm,\n",
    "                      Av:ppAv})\n",
    "\n",
    "#motor\n",
    "pprm = 26.9 \n",
    "pplm = 600E-6\n",
    "ppJm = 1.5E-7\n",
    "ppkm = 30.82E-3\n",
    "ppkv = 30.82E-3\n",
    "ppbm = 3.7628E-5\n",
    "\n",
    "eqqFTLA=eqqFTLA.subs({rm:pprm, \n",
    "                      lm:pplm,\n",
    "                      Jm:ppJm,\n",
    "                      km:ppkm,\n",
    "                      kv:ppkv,\n",
    "                      bm:ppbm})\n",
    "\n",
    "#caja reductora\n",
    "ppn=1/4\n",
    "\n",
    "#seguidor\n",
    "#disco dentado de pla: h=1cm, r=5cm, densidad=1.32gr/cm3, J=1/2*densidad*vol*r**2\n",
    "densidad=1.32/1000\n",
    "radio=5\n",
    "vol=(np.pi*radio**2)*1\n",
    "\n",
    "#inercia (gr*cm2)\n",
    "ppJ=1/2*densidad*vol*radio**2\n",
    "#pasar a Kg*m2\n",
    "ppJ=ppJ*1E-7\n",
    "#friccion \n",
    "ppb2=2*ppbm\n",
    "\n",
    "eqqFTLA=eqqFTLA.subs({n:ppn, \n",
    "                      J:ppJ,\n",
    "                      b2:ppb2}).expand()\n",
    "\n",
    "disp(eqqFTLA,\"Planta:\")\n",
    "\n",
    "num=[spy.numer(eqqFTLA.rhs)]\n",
    "den=[spy.denom(eqqFTLA.rhs).coeff(s,pot) for pot in reversed(range(4))]\n",
    "\n",
    "print(\"Coeficientes:\")\n",
    "print((num,den))\n"
   ]
  },
  {
   "cell_type": "markdown",
   "metadata": {},
   "source": [
    "# Funcion de transferencia a lazo abierto"
   ]
  },
  {
   "cell_type": "code",
   "execution_count": 7,
   "metadata": {},
   "outputs": [
    {
     "name": "stdout",
     "output_type": "stream",
     "text": [
      "\n",
      "                4.623e-05\n",
      "------------------------------------------\n",
      "9.486e-11 s^3 + 4.278e-06 s^2 + 0.002089 s\n",
      "\n"
     ]
    }
   ],
   "source": [
    "FTLA=ctl.tf([4.62300000000000e-5], [9.48596511360217e-11, 4.27827325926497e-6, 0.00208858975000000, 0])\n",
    "\n",
    "print(FTLA)"
   ]
  },
  {
   "cell_type": "markdown",
   "metadata": {},
   "source": [
    "# Funcion de transferencia a lazo cerrado"
   ]
  },
  {
   "cell_type": "code",
   "execution_count": 8,
   "metadata": {},
   "outputs": [
    {
     "name": "stdout",
     "output_type": "stream",
     "text": [
      "Funcion de transferencia a lazo cerrado:\n",
      "\n",
      "                      4.623e-05\n",
      "------------------------------------------------------\n",
      "9.486e-11 s^3 + 4.278e-06 s^2 + 0.002089 s + 4.623e-05\n",
      "\n"
     ]
    }
   ],
   "source": [
    "#realimentacion unitaria\n",
    "H=1\n",
    "FTLC=ctl.feedback(FTLA,1)\n",
    "\n",
    "print(\"Funcion de transferencia a lazo cerrado:\")\n",
    "print(FTLC)"
   ]
  },
  {
   "cell_type": "markdown",
   "metadata": {},
   "source": [
    "# Respuesta al escalon original"
   ]
  },
  {
   "cell_type": "code",
   "execution_count": 9,
   "metadata": {},
   "outputs": [
    {
     "ename": "KeyboardInterrupt",
     "evalue": "",
     "output_type": "error",
     "traceback": [
      "\u001b[0;31m---------------------------------------------------------------------------\u001b[0m",
      "\u001b[0;31mKeyboardInterrupt\u001b[0m                         Traceback (most recent call last)",
      "\u001b[0;32m/tmp/ipykernel_54793/3890948027.py\u001b[0m in \u001b[0;36m<module>\u001b[0;34m\u001b[0m\n\u001b[1;32m      8\u001b[0m \u001b[0mplt\u001b[0m\u001b[0;34m.\u001b[0m\u001b[0mdraw\u001b[0m\u001b[0;34m(\u001b[0m\u001b[0;34m)\u001b[0m\u001b[0;34m\u001b[0m\u001b[0;34m\u001b[0m\u001b[0m\n\u001b[1;32m      9\u001b[0m \u001b[0;34m\u001b[0m\u001b[0m\n\u001b[0;32m---> 10\u001b[0;31m \u001b[0;32mwhile\u001b[0m \u001b[0mplt\u001b[0m\u001b[0;34m.\u001b[0m\u001b[0mwaitforbuttonpress\u001b[0m\u001b[0;34m(\u001b[0m\u001b[0;34m)\u001b[0m\u001b[0;34m!=\u001b[0m\u001b[0;32mTrue\u001b[0m\u001b[0;34m:\u001b[0m\u001b[0;34m\u001b[0m\u001b[0;34m\u001b[0m\u001b[0m\n\u001b[0m\u001b[1;32m     11\u001b[0m     \u001b[0;32mpass\u001b[0m\u001b[0;34m\u001b[0m\u001b[0;34m\u001b[0m\u001b[0m\n\u001b[1;32m     12\u001b[0m \u001b[0mplt\u001b[0m\u001b[0;34m.\u001b[0m\u001b[0mclose\u001b[0m\u001b[0;34m(\u001b[0m\u001b[0mfig\u001b[0m\u001b[0;34m)\u001b[0m\u001b[0;34m\u001b[0m\u001b[0;34m\u001b[0m\u001b[0m\n",
      "\u001b[0;32m~/envPy38/lib/python3.8/site-packages/matplotlib/pyplot.py\u001b[0m in \u001b[0;36mwaitforbuttonpress\u001b[0;34m(timeout)\u001b[0m\n\u001b[1;32m   2570\u001b[0m \u001b[0;34m@\u001b[0m\u001b[0m_copy_docstring_and_deprecators\u001b[0m\u001b[0;34m(\u001b[0m\u001b[0mFigure\u001b[0m\u001b[0;34m.\u001b[0m\u001b[0mwaitforbuttonpress\u001b[0m\u001b[0;34m)\u001b[0m\u001b[0;34m\u001b[0m\u001b[0;34m\u001b[0m\u001b[0m\n\u001b[1;32m   2571\u001b[0m \u001b[0;32mdef\u001b[0m \u001b[0mwaitforbuttonpress\u001b[0m\u001b[0;34m(\u001b[0m\u001b[0mtimeout\u001b[0m\u001b[0;34m=\u001b[0m\u001b[0;34m-\u001b[0m\u001b[0;36m1\u001b[0m\u001b[0;34m)\u001b[0m\u001b[0;34m:\u001b[0m\u001b[0;34m\u001b[0m\u001b[0;34m\u001b[0m\u001b[0m\n\u001b[0;32m-> 2572\u001b[0;31m     \u001b[0;32mreturn\u001b[0m \u001b[0mgcf\u001b[0m\u001b[0;34m(\u001b[0m\u001b[0;34m)\u001b[0m\u001b[0;34m.\u001b[0m\u001b[0mwaitforbuttonpress\u001b[0m\u001b[0;34m(\u001b[0m\u001b[0mtimeout\u001b[0m\u001b[0;34m=\u001b[0m\u001b[0mtimeout\u001b[0m\u001b[0;34m)\u001b[0m\u001b[0;34m\u001b[0m\u001b[0;34m\u001b[0m\u001b[0m\n\u001b[0m\u001b[1;32m   2573\u001b[0m \u001b[0;34m\u001b[0m\u001b[0m\n\u001b[1;32m   2574\u001b[0m \u001b[0;34m\u001b[0m\u001b[0m\n",
      "\u001b[0;32m~/envPy38/lib/python3.8/site-packages/matplotlib/figure.py\u001b[0m in \u001b[0;36mwaitforbuttonpress\u001b[0;34m(self, timeout)\u001b[0m\n\u001b[1;32m   3075\u001b[0m         \"\"\"\n\u001b[1;32m   3076\u001b[0m         \u001b[0mblocking_input\u001b[0m \u001b[0;34m=\u001b[0m \u001b[0mBlockingKeyMouseInput\u001b[0m\u001b[0;34m(\u001b[0m\u001b[0mself\u001b[0m\u001b[0;34m)\u001b[0m\u001b[0;34m\u001b[0m\u001b[0;34m\u001b[0m\u001b[0m\n\u001b[0;32m-> 3077\u001b[0;31m         \u001b[0;32mreturn\u001b[0m \u001b[0mblocking_input\u001b[0m\u001b[0;34m(\u001b[0m\u001b[0mtimeout\u001b[0m\u001b[0;34m=\u001b[0m\u001b[0mtimeout\u001b[0m\u001b[0;34m)\u001b[0m\u001b[0;34m\u001b[0m\u001b[0;34m\u001b[0m\u001b[0m\n\u001b[0m\u001b[1;32m   3078\u001b[0m \u001b[0;34m\u001b[0m\u001b[0m\n\u001b[1;32m   3079\u001b[0m     \u001b[0;32mdef\u001b[0m \u001b[0minit_layoutgrid\u001b[0m\u001b[0;34m(\u001b[0m\u001b[0mself\u001b[0m\u001b[0;34m)\u001b[0m\u001b[0;34m:\u001b[0m\u001b[0;34m\u001b[0m\u001b[0;34m\u001b[0m\u001b[0m\n",
      "\u001b[0;32m~/envPy38/lib/python3.8/site-packages/matplotlib/blocking_input.py\u001b[0m in \u001b[0;36m__call__\u001b[0;34m(self, timeout)\u001b[0m\n\u001b[1;32m    349\u001b[0m         \"\"\"\n\u001b[1;32m    350\u001b[0m         \u001b[0mself\u001b[0m\u001b[0;34m.\u001b[0m\u001b[0mkeyormouse\u001b[0m \u001b[0;34m=\u001b[0m \u001b[0;32mNone\u001b[0m\u001b[0;34m\u001b[0m\u001b[0;34m\u001b[0m\u001b[0m\n\u001b[0;32m--> 351\u001b[0;31m         \u001b[0msuper\u001b[0m\u001b[0;34m(\u001b[0m\u001b[0;34m)\u001b[0m\u001b[0;34m.\u001b[0m\u001b[0m__call__\u001b[0m\u001b[0;34m(\u001b[0m\u001b[0mn\u001b[0m\u001b[0;34m=\u001b[0m\u001b[0;36m1\u001b[0m\u001b[0;34m,\u001b[0m \u001b[0mtimeout\u001b[0m\u001b[0;34m=\u001b[0m\u001b[0mtimeout\u001b[0m\u001b[0;34m)\u001b[0m\u001b[0;34m\u001b[0m\u001b[0;34m\u001b[0m\u001b[0m\n\u001b[0m\u001b[1;32m    352\u001b[0m \u001b[0;34m\u001b[0m\u001b[0m\n\u001b[1;32m    353\u001b[0m         \u001b[0;32mreturn\u001b[0m \u001b[0mself\u001b[0m\u001b[0;34m.\u001b[0m\u001b[0mkeyormouse\u001b[0m\u001b[0;34m\u001b[0m\u001b[0;34m\u001b[0m\u001b[0m\n",
      "\u001b[0;32m~/envPy38/lib/python3.8/site-packages/matplotlib/blocking_input.py\u001b[0m in \u001b[0;36m__call__\u001b[0;34m(self, n, timeout)\u001b[0m\n\u001b[1;32m     91\u001b[0m         \u001b[0;32mtry\u001b[0m\u001b[0;34m:\u001b[0m\u001b[0;34m\u001b[0m\u001b[0;34m\u001b[0m\u001b[0m\n\u001b[1;32m     92\u001b[0m             \u001b[0;31m# Start event loop.\u001b[0m\u001b[0;34m\u001b[0m\u001b[0;34m\u001b[0m\u001b[0;34m\u001b[0m\u001b[0m\n\u001b[0;32m---> 93\u001b[0;31m             \u001b[0mself\u001b[0m\u001b[0;34m.\u001b[0m\u001b[0mfig\u001b[0m\u001b[0;34m.\u001b[0m\u001b[0mcanvas\u001b[0m\u001b[0;34m.\u001b[0m\u001b[0mstart_event_loop\u001b[0m\u001b[0;34m(\u001b[0m\u001b[0mtimeout\u001b[0m\u001b[0;34m=\u001b[0m\u001b[0mtimeout\u001b[0m\u001b[0;34m)\u001b[0m\u001b[0;34m\u001b[0m\u001b[0;34m\u001b[0m\u001b[0m\n\u001b[0m\u001b[1;32m     94\u001b[0m         \u001b[0;32mfinally\u001b[0m\u001b[0;34m:\u001b[0m  \u001b[0;31m# Run even on exception like ctrl-c.\u001b[0m\u001b[0;34m\u001b[0m\u001b[0;34m\u001b[0m\u001b[0m\n\u001b[1;32m     95\u001b[0m             \u001b[0;31m# Disconnect the callbacks.\u001b[0m\u001b[0;34m\u001b[0m\u001b[0;34m\u001b[0m\u001b[0;34m\u001b[0m\u001b[0m\n",
      "\u001b[0;32m~/envPy38/lib/python3.8/site-packages/matplotlib/backend_bases.py\u001b[0m in \u001b[0;36mstart_event_loop\u001b[0;34m(self, timeout)\u001b[0m\n\u001b[1;32m   2457\u001b[0m         \u001b[0;32mwhile\u001b[0m \u001b[0mself\u001b[0m\u001b[0;34m.\u001b[0m\u001b[0m_looping\u001b[0m \u001b[0;32mand\u001b[0m \u001b[0mcounter\u001b[0m \u001b[0;34m*\u001b[0m \u001b[0mtimestep\u001b[0m \u001b[0;34m<\u001b[0m \u001b[0mtimeout\u001b[0m\u001b[0;34m:\u001b[0m\u001b[0;34m\u001b[0m\u001b[0;34m\u001b[0m\u001b[0m\n\u001b[1;32m   2458\u001b[0m             \u001b[0mself\u001b[0m\u001b[0;34m.\u001b[0m\u001b[0mflush_events\u001b[0m\u001b[0;34m(\u001b[0m\u001b[0;34m)\u001b[0m\u001b[0;34m\u001b[0m\u001b[0;34m\u001b[0m\u001b[0m\n\u001b[0;32m-> 2459\u001b[0;31m             \u001b[0mtime\u001b[0m\u001b[0;34m.\u001b[0m\u001b[0msleep\u001b[0m\u001b[0;34m(\u001b[0m\u001b[0mtimestep\u001b[0m\u001b[0;34m)\u001b[0m\u001b[0;34m\u001b[0m\u001b[0;34m\u001b[0m\u001b[0m\n\u001b[0m\u001b[1;32m   2460\u001b[0m             \u001b[0mcounter\u001b[0m \u001b[0;34m+=\u001b[0m \u001b[0;36m1\u001b[0m\u001b[0;34m\u001b[0m\u001b[0;34m\u001b[0m\u001b[0m\n\u001b[1;32m   2461\u001b[0m \u001b[0;34m\u001b[0m\u001b[0m\n",
      "\u001b[0;31mKeyboardInterrupt\u001b[0m: "
     ]
    },
    {
     "data": {
      "image/png": "[encoded data removed]",
      "text/plain": [
       "<Figure size 432x288 with 1 Axes>"
      ]
     },
     "metadata": {
      "needs_background": "light"
     },
     "output_type": "display_data"
    }
   ],
   "source": [
    "#respuesta al escalon\n",
    "t,y=ctl.step_response(ctl.feedback(FTLA,1),1000)\n",
    "\n",
    "fig=plt.figure()\n",
    "plt.plot(t,y)\n",
    "plt.grid()\n",
    "csr()\n",
    "plt.draw()\n",
    "\n",
    "while plt.waitforbuttonpress()!=True:\n",
    "    pass\n",
    "plt.close(fig)"
   ]
  }
 ],
 "metadata": {
  "interpreter": {
   "hash": "6b73abfbbecf72af9fed660ac2982926a78e3da32d139dac9b072e46ecc98b86"
  },
  "kernelspec": {
   "display_name": "Python 3.8.10 64-bit ('envPy38': venv)",
   "language": "python",
   "name": "python3"
  },
  "language_info": {
   "codemirror_mode": {
    "name": "ipython",
    "version": 3
   },
   "file_extension": ".py",
   "mimetype": "text/x-python",
   "name": "python",
   "nbconvert_exporter": "python",
   "pygments_lexer": "ipython3",
   "version": "3.8.10"
  },
  "orig_nbformat": 4
 },
 "nbformat": 4,
 "nbformat_minor": 2
}
