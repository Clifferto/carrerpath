{
 "cells": [
  {
   "cell_type": "markdown",
   "metadata": {},
   "source": [
    "# Modelo matematico"
   ]
  },
  {
   "cell_type": "code",
   "execution_count": 13,
   "metadata": {},
   "outputs": [],
   "source": [
    "# Modulos\n",
    "import numpy as np\n",
    "import matplotlib.pyplot as plt\n",
    "import sympy as spy\n",
    "import control as ctl\n",
    "from sympy.core.compatibility import iterable\n",
    "from reliability.Other_functions import crosshairs as csr\n",
    "\n",
    "%matplotlib qt\n",
    "\n",
    "# Funciones auxiliares\n",
    "def mem2mem(equation,opp):\n",
    "    \"\"\"mem2mem:\n",
    "        Aplica una operacion sencilla en ambos miembros de una ecuacion.\n",
    "\n",
    "    Args:\n",
    "        equation: Ecuacion a operar.\n",
    "        opp: Termino para operar en ambos miembros.\n",
    "\n",
    "    Returns: \n",
    "        Ecuacion de resultado luego de operar.\n",
    "    \"\"\"\n",
    "    sel=opp[0]\n",
    "    expr=spy.sympify(opp[1::])\n",
    "    \n",
    "    if sel==\"+\":\n",
    "        return spy.Eq(equation.lhs+expr,equation.rhs+expr)\n",
    "    elif sel==\"-\":\n",
    "        return spy.Eq(equation.lhs-expr,equation.rhs-expr)\n",
    "    elif sel==\"*\":\n",
    "        return spy.Eq(equation.lhs*expr,equation.rhs*expr)\n",
    "    elif sel==\"/\":\n",
    "        return spy.Eq(equation.lhs/expr,equation.rhs/expr)\n",
    "\n",
    "def disp(ecuaciones,titulo=\"\"):\n",
    "    \"\"\"disp:\n",
    "        Mostrar una ecuacion con titulo y separadores\n",
    "\n",
    "    Args:\n",
    "        ecuaciones: Ecuacion para imprimir\n",
    "        titulo: Titulo opcional a mostrar. Defaults to \"\".\n",
    "    \"\"\"\n",
    "    print(titulo + \"\\n\")\n",
    "    \n",
    "    if type(ecuaciones)!=iterable:\n",
    "        spy.pprint(ecuaciones,num_columns=200)\n",
    "    \n",
    "    else:\n",
    "        for ecc in ecuaciones:\n",
    "            spy.pprint(ecc,num_columns=200)\n",
    "\n",
    "    print(\"\\n\" + \"-\"*80)\n"
   ]
  },
  {
   "cell_type": "markdown",
   "metadata": {},
   "source": [
    "# Idea del sistema\n",
    "\n",
    "**Disco dentado que gira persiguiendo el rayo de luz.**\n",
    "\n",
    "![](img/sistema.jpg)"
   ]
  },
  {
   "cell_type": "code",
   "execution_count": 2,
   "metadata": {},
   "outputs": [
    {
     "name": "stdout",
     "output_type": "stream",
     "text": [
      "Ecuaciones:\n",
      "\n",
      "(V = Im⋅(lm⋅s + rm) + Wm⋅kv, Tm = T₁ + Wm⋅(Jm⋅s + bm), T₂ = W₂⋅(J⋅s + b₂))\n",
      "\n",
      "--------------------------------------------------------------------------------\n",
      "Cancelar T1 y T2:\n",
      "\n",
      "(V = Im⋅(lm⋅s + rm) + Wm⋅kv, 0 = -Jm⋅Wm⋅s + Tm - W₂⋅n⋅(J⋅s + b₂) - Wm⋅bm)\n",
      "\n",
      "--------------------------------------------------------------------------------\n",
      "Cancelar Im y Tm:\n",
      "\n",
      "                                           km⋅(V - Wm⋅kv)\n",
      "0 = J⋅W₂⋅n⋅s + Jm⋅Wm⋅s + W₂⋅b₂⋅n + Wm⋅bm - ──────────────\n",
      "                                             lm⋅s + rm   \n",
      "\n",
      "--------------------------------------------------------------------------------\n",
      "Resolver para W2/V:\n",
      "\n",
      "W₂                                             km⋅n                                          \n",
      "── = ────────────────────────────────────────────────────────────────────────────────────────\n",
      "V        2                       2 ⎛      2        ⎞     ⎛   2                     2        ⎞\n",
      "     b₂⋅n ⋅rm + bm⋅rm + km⋅kv + s ⋅⎝J⋅lm⋅n  + Jm⋅lm⎠ + s⋅⎝J⋅n ⋅rm + Jm⋅rm + b₂⋅lm⋅n  + bm⋅lm⎠\n",
      "\n",
      "--------------------------------------------------------------------------------\n",
      "Funcion de transferencia:\n",
      "\n",
      "P₂                                               km⋅n                                            \n",
      "── = ────────────────────────────────────────────────────────────────────────────────────────────\n",
      "V      ⎛    2                       2 ⎛      2        ⎞     ⎛   2                     2        ⎞⎞\n",
      "     s⋅⎝b₂⋅n ⋅rm + bm⋅rm + km⋅kv + s ⋅⎝J⋅lm⋅n  + Jm⋅lm⎠ + s⋅⎝J⋅n ⋅rm + Jm⋅rm + b₂⋅lm⋅n  + bm⋅lm⎠⎠\n",
      "\n",
      "--------------------------------------------------------------------------------\n"
     ]
    }
   ],
   "source": [
    "#simbolos (en este orden)\n",
    "# tension/corriente del motor, resistencia/inductancia de bobinados, cte de fcem, velocidad del rotor\n",
    "V,Im,rm,lm,kv,Wm=spy.symbols(\"V,Im,rm,lm,kv,Wm\")\n",
    "# torque motor, momento de inercia/friccion del rotor\n",
    "Tm,Jm,s,bm,T1=spy.symbols(\"Tm,Jm,s,bm,T1\")\n",
    "# torque/velocidad del 2do eje, momento de inercia/friccion del segidor\n",
    "T2,W2,J,b2=spy.symbols(\"T2,W2,J,b2\")\n",
    "\n",
    "# cte del motor, relacion de reduccion \n",
    "km,n=spy.symbols(\"km,n\")\n",
    "\n",
    "#igualdades auxiliares\n",
    "# Tm = km*Im\n",
    "# n = N1/N2 = W2/W1 = T1/T2\n",
    "\n",
    "#ecuaciones\n",
    "# V = Im*(rm+lm*s) + kv*Wm\n",
    "# Tm = Wm*(Jm*s + bm) + T1\n",
    "# T2 = W2*(J*s + b2)\n",
    "eqq1=spy.Eq(V,Im*(rm+lm*s) + kv*Wm)\n",
    "eqq2=spy.Eq(Tm,Wm*(Jm*s + bm) + T1)\n",
    "eqq3=spy.Eq(T2,W2*(J*s + b2))\n",
    "\n",
    "disp((eqq1,eqq2,eqq3),\"Ecuaciones:\")\n",
    "\n",
    "#cancelar T1 y T1\n",
    "aux0=spy.Eq(T1,spy.solve(eqq2,T1)[0])\n",
    "aux1=mem2mem(eqq3,\"*n\").replace(T2*n,T1)\n",
    "\n",
    "aux2=spy.Eq(aux0.lhs-aux1.lhs,aux0.rhs-aux1.rhs)\n",
    "\n",
    "disp((eqq1,aux2),\"Cancelar T1 y T2:\")\n",
    "\n",
    "#cancelar Tm e Im\n",
    "aux3=spy.Eq(Tm,spy.solve(aux2,Tm)[0])\n",
    "aux4=spy.Eq(Im,spy.solve(eqq1,Im)[0])\n",
    "aux4=mem2mem(aux4,\"*km\").replace(Im*km,Tm)\n",
    "\n",
    "aux5=spy.Eq(aux3.lhs-aux4.lhs,aux3.rhs-aux4.rhs)\n",
    "\n",
    "disp(aux5,\"Cancelar Im y Tm:\")\n",
    "\n",
    "#resolver para W2/V\n",
    "aux6=spy.Eq(Wm,spy.solve(aux5,Wm)[0])\n",
    "aux6=mem2mem(aux6,\"*n\").replace(Wm*n,W2)\n",
    "\n",
    "aux7=spy.Eq(W2,spy.solve(aux6,W2)[0])\n",
    "aux7=mem2mem(aux7,\"/V\")\n",
    "\n",
    "aux7=spy.Eq(W2/V,aux7.rhs.collect(s))\n",
    "\n",
    "disp(aux7,\"Resolver para W2/V:\")\n",
    "\n",
    "#armar funcion de transferencia G = P2/V\n",
    "aux8=mem2mem(aux7,\"/s\")\n",
    "\n",
    "P2=spy.symbols(\"P2\")\n",
    "eqqG=spy.Eq(P2/V,aux8.rhs)\n",
    "\n",
    "disp(eqqG,\"Funcion de transferencia:\")\n"
   ]
  },
  {
   "cell_type": "markdown",
   "metadata": {},
   "source": [
    "# Funcion de transferencia a lazo abierto\n",
    "\n",
    "* Se mide desde una referencia el angulo del disco y el angulo de incidencia.\n",
    "* Se corrije con el motor hasta que el error sea cero.\n",
    "\n",
    "![](img/bloques.jpg)"
   ]
  },
  {
   "cell_type": "code",
   "execution_count": 3,
   "metadata": {},
   "outputs": [
    {
     "name": "stdout",
     "output_type": "stream",
     "text": [
      "Funcion de transferencia a lazo abierto:\n",
      "\n",
      "                                             Av⋅km⋅n⋅pwm⋅ssr                                       \n",
      "TFOL = ────────────────────────────────────────────────────────────────────────────────────────────\n",
      "         ⎛    2                       2 ⎛      2        ⎞     ⎛   2                     2        ⎞⎞\n",
      "       s⋅⎝b₂⋅n ⋅rm + bm⋅rm + km⋅kv + s ⋅⎝J⋅lm⋅n  + Jm⋅lm⎠ + s⋅⎝J⋅n ⋅rm + Jm⋅rm + b₂⋅lm⋅n  + bm⋅lm⎠⎠\n",
      "\n",
      "--------------------------------------------------------------------------------\n"
     ]
    }
   ],
   "source": [
    "#armar funcion de transferencia de lazo abierto\n",
    "# cte para el sensor de LDRs, cte para el pwm, ganancia para alimentar el motor\n",
    "ssr,pwm,Av,TFOL=spy.symbols(\"ssr,pwm,Av,TFOL\")\n",
    "\n",
    "eqqTFOL=spy.Eq(TFOL,ssr*pwm*Av*eqqG.rhs)\n",
    "\n",
    "disp(eqqTFOL,\"Funcion de transferencia a lazo abierto:\")"
   ]
  },
  {
   "cell_type": "markdown",
   "metadata": {},
   "source": [
    "# Planta final\n",
    "\n",
    "Motor:\n",
    "\n",
    "![](img/motor.jpg)"
   ]
  },
  {
   "cell_type": "code",
   "execution_count": 6,
   "metadata": {},
   "outputs": [
    {
     "name": "stdout",
     "output_type": "stream",
     "text": [
      "Planta:\n",
      "\n",
      "                                    9.246e-5                             \n",
      "TFOL = ──────────────────────────────────────────────────────────────────\n",
      "                             3                        2                  \n",
      "       9.48596511360217e-11⋅s  + 4.27827325926497e-6⋅s  + 0.00208858975⋅s\n",
      "\n",
      "--------------------------------------------------------------------------------\n",
      "Coeficientes:\n",
      "([9.24600000000000e-5], [9.48596511360217e-11, 4.27827325926497e-6, 0.00208858975000000, 0])\n"
     ]
    }
   ],
   "source": [
    "#parametros de la planta\n",
    "#sensor(V/°): +/-5V a +/- 20°\n",
    "ppssr=5/20\n",
    "#pwm(%D/V): 5V es 100% Duty\n",
    "pppwm=1/5 \n",
    "#ganancia(V/%D): 100% Duty son 24V\n",
    "ppAv=24/100\n",
    "\n",
    "eqqTFOL=eqqTFOL.subs({ssr:ppssr, \n",
    "                      pwm:pppwm,\n",
    "                      Av:ppAv})\n",
    "\n",
    "#motor\n",
    "pprm = 26.9 \n",
    "pplm = 600E-6\n",
    "ppJm = 1.5E-7\n",
    "ppkm = 30.82E-3\n",
    "ppkv = 30.82E-3\n",
    "\n",
    "ppbm = 3.7628E-5\n",
    "\n",
    "eqqTFOL=eqqTFOL.subs({rm:pprm, \n",
    "                      lm:pplm,\n",
    "                      Jm:ppJm,\n",
    "                      km:ppkm,\n",
    "                      kv:ppkv,\n",
    "                      bm:ppbm})\n",
    "\n",
    "#caja reductora\n",
    "ppn=1/4\n",
    "\n",
    "#seguidor\n",
    "#disco dentado de pla: h=1cm, r=5cm, densidad=1.32gr/cm3, J=1/2*densidad*vol*r**2\n",
    "densidad=1.32/1000\n",
    "radio=5\n",
    "vol=(np.pi*radio**2)*1\n",
    "\n",
    "#inercia (gr*cm2)\n",
    "ppJ=1/2*densidad*vol*radio**2\n",
    "#pasar a Kg*m2\n",
    "ppJ=ppJ*1E-7\n",
    "#friccion \n",
    "ppb2=2*ppbm\n",
    "\n",
    "eqqTFOL=eqqTFOL.subs({n:ppn, \n",
    "                      J:ppJ,\n",
    "                      b2:ppb2}).expand()\n",
    "\n",
    "disp(eqqTFOL,\"Planta:\")\n",
    "\n",
    "num=[spy.numer(eqqTFOL.rhs)]\n",
    "den=[spy.denom(eqqTFOL.rhs).coeff(s,pot) for pot in reversed(range(4))]\n",
    "\n",
    "print(\"Coeficientes:\")\n",
    "print((num,den))"
   ]
  },
  {
   "cell_type": "markdown",
   "metadata": {},
   "source": [
    "# Funcion de transferencia a lazo abierto"
   ]
  },
  {
   "cell_type": "code",
   "execution_count": 8,
   "metadata": {},
   "outputs": [
    {
     "name": "stdout",
     "output_type": "stream",
     "text": [
      "Transferencia a lazo abierto:\n",
      "\n",
      "                9.246e-05\n",
      "------------------------------------------\n",
      "9.486e-11 s^3 + 4.278e-06 s^2 + 0.002089 s\n",
      "\n"
     ]
    }
   ],
   "source": [
    "# crear funcion de transferencia\n",
    "TFOL=ctl.tf([9.24600000000000e-5], [9.48596511360217e-11, 4.27827325926497e-6, 0.00208858975000000, 0])\n",
    "\n",
    "print(\"Transferencia a lazo abierto:\")\n",
    "print(TFOL)"
   ]
  },
  {
   "cell_type": "markdown",
   "metadata": {},
   "source": [
    "# Funcion de transferencia a lazo cerrado"
   ]
  },
  {
   "cell_type": "code",
   "execution_count": 9,
   "metadata": {},
   "outputs": [
    {
     "name": "stdout",
     "output_type": "stream",
     "text": [
      "Transferencia a lazo cerrado:\n",
      "\n",
      "                      9.246e-05\n",
      "------------------------------------------------------\n",
      "9.486e-11 s^3 + 4.278e-06 s^2 + 0.002089 s + 9.246e-05\n",
      "\n"
     ]
    }
   ],
   "source": [
    "#realimentacion unitaria\n",
    "H=1\n",
    "TFCL=ctl.feedback(TFOL,H)\n",
    "\n",
    "print(\"Transferencia a lazo cerrado:\")\n",
    "print(TFCL)"
   ]
  },
  {
   "cell_type": "markdown",
   "metadata": {},
   "source": [
    "# Respuesta al escalon original"
   ]
  },
  {
   "cell_type": "code",
   "execution_count": 14,
   "metadata": {},
   "outputs": [],
   "source": [
    "#respuesta al escalon\n",
    "t,y=ctl.step_response(TFCL,1000)\n",
    "\n",
    "fig=plt.figure()\n",
    "plt.plot(t,y)\n",
    "plt.grid()\n",
    "csr()\n",
    "plt.draw()\n",
    "\n",
    "# while plt.waitforbuttonpress()!=True:\n",
    "#     pass\n",
    "plt.close(fig)"
   ]
  }
 ],
 "metadata": {
  "interpreter": {
   "hash": "6b73abfbbecf72af9fed660ac2982926a78e3da32d139dac9b072e46ecc98b86"
  },
  "kernelspec": {
   "display_name": "Python 3.8.10 64-bit ('envPy38': venv)",
   "language": "python",
   "name": "python3"
  },
  "language_info": {
   "codemirror_mode": {
    "name": "ipython",
    "version": 3
   },
   "file_extension": ".py",
   "mimetype": "text/x-python",
   "name": "python",
   "nbconvert_exporter": "python",
   "pygments_lexer": "ipython3",
   "version": "3.8.10"
  },
  "orig_nbformat": 4
 },
 "nbformat": 4,
 "nbformat_minor": 2
}
