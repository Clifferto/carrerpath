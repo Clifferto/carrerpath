{
 "cells": [
  {
   "cell_type": "markdown",
   "metadata": {},
   "source": [
    "# Diseño de acople sintonizado"
   ]
  },
  {
   "cell_type": "code",
   "execution_count": 1,
   "metadata": {},
   "outputs": [],
   "source": [
    "import sympy as sp\n",
    "from sympy.core.compatibility import iterable\n",
    "import numpy as np"
   ]
  },
  {
   "cell_type": "markdown",
   "metadata": {},
   "source": [
    "## Parametros"
   ]
  },
  {
   "cell_type": "code",
   "execution_count": 2,
   "metadata": {},
   "outputs": [
    {
     "name": "stdout",
     "output_type": "stream",
     "text": [
      "requerimientos:\n",
      "\tfrec de resonancia = 16.0 MHz, BW = 1.6 MHz\n",
      "\timpedancias entrada/salida 50 Ohm/1.0 kOhm\n",
      "\n",
      "se adopta un CT inicial de 169.00000000000003 pF\n"
     ]
    }
   ],
   "source": [
    "# frec de resonancia, 1(ultimoNumDNI) MHz\n",
    "fo=16E6\n",
    "# ancho de banda, 10%fo\n",
    "BW=10*fo/100\n",
    "# impedancias\n",
    "Ra=50\n",
    "RL=1E3\n",
    "\n",
    "# asumir una CT inicial para cumplir la fo, tratando de crear un inductor cuadrado\n",
    "# CT=188E-12\n",
    "\n",
    "# 310, 250, 200, 150, 169\n",
    "CT=169E-12\n",
    "\n",
    "print(f\"requerimientos:\")\n",
    "print(f\"\\tfrec de resonancia = {fo/1E6} MHz, BW = {BW/1E6} MHz\")\n",
    "print(f\"\\timpedancias entrada/salida {Ra} Ohm/{RL/1E3} kOhm\\n\")\n",
    "print(f\"se adopta un CT inicial de {CT/1E-12} pF\")"
   ]
  },
  {
   "cell_type": "markdown",
   "metadata": {},
   "source": [
    "## Sacar L (teorico)"
   ]
  },
  {
   "cell_type": "code",
   "execution_count": 3,
   "metadata": {},
   "outputs": [
    {
     "name": "stdout",
     "output_type": "stream",
     "text": [
      "L(teorico) = 0.5854820615427249 uH.\n"
     ]
    }
   ],
   "source": [
    "# despejando LT\n",
    "\"\"\" 1/(4 * pi^2 * CT * fo^2) \"\"\"\n",
    "\n",
    "LT=1/(4*np.pi**2 * CT * fo**2)\n",
    "\n",
    "print(f\"L(teorico) = {LT/1E-6} uH.\")\n",
    "\n",
    "# pasar inductancia a [uH]\n",
    "LT=LT/1E-6"
   ]
  },
  {
   "cell_type": "markdown",
   "metadata": {},
   "source": [
    "## Diseño del inductor (curvas J/K)"
   ]
  },
  {
   "cell_type": "code",
   "execution_count": 24,
   "metadata": {},
   "outputs": [
    {
     "name": "stdout",
     "output_type": "stream",
     "text": [
      "diseñar inductor de 0.5854820615427249 uH:\n",
      "\tnucleo de 1 cm y cobre de 1.2 mm\n",
      "\tdiametro medio del inductor de 1.1199999999999999 cm.\n",
      "\n",
      "------------------------------------------------------------\n",
      "Diseño, ecuacion K de Nagaoka:\n",
      "------------------------------------------------------------\n",
      "\tcoeficiente K: 11.930543890053094 (1.0766602427537115 en log).\n",
      "\n",
      "\tentrando al grafico K, nos da la relacion l/Dind: 1.5 aprox.\n",
      "\n",
      "\ttenemos un inductor de 1.6799999999999997 cm de largo y 9.929078014184396 vueltas.\n",
      "\n",
      "\tcorrijiendo a 10.0 espiras, tenemos la nueva relacion l/Dind 1.5107142857142857.\n",
      "\n",
      "------------------------------------------------------------ \n",
      "verificacion, ecuacion J de Nagaoka: \n",
      "------------------------------------------------------------\n",
      "\tentrando al grafico J para la relacion 1.5107142857142857\n",
      "\n",
      "\tqueda un inductor de 0.5319999999999999 uH.\n",
      "\tde inductancia teorica: 0.7317040047710694 uH\n",
      "\n",
      "------------------------------------------------------------\n",
      "resultados del diseño:\n",
      "------------------------------------------------------------\n",
      "inductor de 0.5319999999999999 uH aprox.\n",
      "\tcon nucleo de 1 cm, largo de 1.6919999999999997 cm, diametro de cobre de 1.2 mm\n",
      "\tcon 10.0 espiras y relacion de forma 1.5107142857142857\n"
     ]
    }
   ],
   "source": [
    "# diametro del cobre [mm]\n",
    "Dcu=1.2E-3\n",
    "# diametro del nucleo de aire [cm]\n",
    "Dnuc=1\n",
    "\n",
    "# diametro total del inductor [cm]\n",
    "Dind=Dnuc+Dcu/1E-2\n",
    "\n",
    "print(f\"diseñar inductor de {LT} uH:\")\n",
    "print(f\"\\tnucleo de {Dnuc} cm y cobre de {Dcu/1E-3} mm\")\n",
    "print(f\"\\tdiametro medio del inductor de {Dind} cm.\\n\")\n",
    "\n",
    "# criterio de separacion optima de Butterworth [vue/cm]\n",
    "\"\"\" Nsop = 1/(1.41 * Dcu[cm])\"\"\"\n",
    "Nsop=1/(1.41 * (Dcu/1E-2))\n",
    "# para armarlo se separa con el mismo alambre y se apreta hasta llegar al largo calculado\n",
    "\n",
    "# ----------------------------------------------------------------------------------\n",
    "# diseño, ecuacion K de nagaoka\n",
    "\"\"\" L[uH] = (Dind[cm])^3 * (Nsop[vue/cm])^2 * K * 1E-3 \"\"\"\n",
    "print(\"-\"*60)\n",
    "print(\"Diseño, ecuacion K de Nagaoka:\")\n",
    "print(\"-\"*60)\n",
    "\n",
    "\"\"\" K == 1000.0 * LT/((Dind[cm])^3 * (Nsop[vue/cm]^2)) \"\"\"\n",
    "K=1000.0*LT/((Dind**3) * (Nsop**2))\n",
    "\n",
    "print(f\"\\tcoeficiente K: {K} ({np.log10(K)} en log).\\n\")\n",
    "\n",
    "# entrar a grafica K\n",
    "relLD=np.float32(input(\"dar relacion l/D de la tabla >> \"))\n",
    "\n",
    "print(f\"\\tentrando al grafico K, nos da la relacion l/Dind: {relLD} aprox.\\n\")\n",
    "\n",
    "# largo del inductor teorico\n",
    "l=relLD*Dind\n",
    "# numero de espiras teorico\n",
    "N=Nsop*l\n",
    "\n",
    "print(f\"\\ttenemos un inductor de {l} cm de largo y {N} vueltas.\\n\")\n",
    "\n",
    "# correjir numero de espiras\n",
    "N=np.float32(input(\"redondear numero de vueltas >> \"))\n",
    "\n",
    "# correjir el nuevo largo y relacion l/Dind\n",
    "l=N/Nsop\n",
    "relLD=l/Dind\n",
    "\n",
    "print(f\"\\tcorrijiendo a {N} espiras, tenemos la nueva relacion l/Dind {relLD}.\\n\")\n",
    "\n",
    "# ----------------------------------------------------------------------------------\n",
    "# verificacion, ecuacion J de Nagaoka\n",
    "print(f\"{'-'*60} \\nverificacion, ecuacion J de Nagaoka: \\n{'-'*60}\")\n",
    "\n",
    "J=np.float32(input(f\"dar J para relacion l/D = {relLD} (log {np.log10(relLD)}) > \"))\n",
    "\n",
    "\"\"\" L[uH] = N^2 * (Dind [cm])/2 * J * 1E-3 \"\"\"\n",
    "LT=(N**2) * Dind/2 * J * 1E-3\n",
    "\n",
    "print(f\"\\tentrando al grafico J para la relacion {relLD}\\n\")\n",
    "print(f\"\\tqueda un inductor de {LT} uH.\")\n",
    "\n",
    "# inductancia teorica\n",
    "\"\"\" L=(uo * Aind * N^2)/l \"\"\"\n",
    "Aind=np.pi*((Dind*1E-2)/2)**2\n",
    "\n",
    "print(f\"\\tde inductancia teorica: {( ((4*np.pi*1E-7) * Aind * N**2)/(l*1E-2) )/1E-6} uH\\n\")\n",
    "\n",
    "# resultados\n",
    "print(\"-\"*60)\n",
    "print(\"resultados del diseño:\")\n",
    "print(\"-\"*60)\n",
    "\n",
    "print(f\"inductor de {LT} uH aprox.\")\n",
    "print(f\"\\tcon nucleo de {Dnuc} cm, largo de {l} cm, diametro de cobre de {Dcu/1E-3} mm\")\n",
    "print(f\"\\tcon {N} espiras y relacion de forma {relLD}\")\n",
    "\n",
    "# inductancia a [H]\n",
    "LT=LT*1E-6"
   ]
  },
  {
   "cell_type": "markdown",
   "metadata": {},
   "source": [
    "## Correjir C"
   ]
  },
  {
   "cell_type": "code",
   "execution_count": 25,
   "metadata": {},
   "outputs": [
    {
     "name": "stdout",
     "output_type": "stream",
     "text": [
      "correjido a CT = 185.98960225699346 pF.\n",
      "\n"
     ]
    }
   ],
   "source": [
    "# ajustar nuevo valor de C\n",
    "\"\"\" CT == 1/(4 * pi^2 * LT * fo^2) \"\"\"\n",
    "\n",
    "CT=1/(4* (np.pi**2) * LT * (fo**2))\n",
    "\n",
    "print(f\"correjido a CT = {CT/1E-12} pF.\\n\")"
   ]
  },
  {
   "cell_type": "markdown",
   "metadata": {},
   "source": [
    "## Calcular R de perdidas segun nagaoka"
   ]
  },
  {
   "cell_type": "code",
   "execution_count": 26,
   "metadata": {},
   "outputs": [
    {
     "name": "stdout",
     "output_type": "stream",
     "text": [
      "resistencia de perdidas 16.090125255151797 KOhm\n",
      "\n"
     ]
    }
   ],
   "source": [
    "# Q decargado del inductor\n",
    "\"\"\" Qd == 8850 * sqrt(fo[MHz]) * (Dind[cm] * l[cm])/(102*l[cm] + 45*Dind[cm]) \"\"\"\n",
    "Qd=8850 * np.sqrt(fo/1E6) * (Dind*l)/(102*l + 45*Dind)\n",
    "\n",
    "# resistencia de perdida\n",
    "\"\"\" Rp = Qd * 2*pi*fo * L \"\"\"\n",
    "Rp=Qd * 2*np.pi*fo * LT\n",
    "\n",
    "print(f\"resistencia de perdidas {Rp/1E3} KOhm\\n\")"
   ]
  },
  {
   "cell_type": "markdown",
   "metadata": {},
   "source": [
    "## Sacar resistencia total"
   ]
  },
  {
   "cell_type": "code",
   "execution_count": 27,
   "metadata": {},
   "outputs": [
    {
     "name": "stdout",
     "output_type": "stream",
     "text": [
      "para un Qparalelo = 10.0, tenemos una RT de 534.8247333471262\n"
     ]
    }
   ],
   "source": [
    "# factor Q para RLC en paralelo es inverso al RLC serie\n",
    "\"\"\" Q == RT/XLo == fo/BW\"\"\"\n",
    "Qparal=fo/BW\n",
    "\n",
    "# resistencia total para este BW\n",
    "RT=Qparal * 2*np.pi*fo * LT\n",
    "\n",
    "print(f\"para un Qparalelo = {Qparal}, tenemos una RT de {RT}\")"
   ]
  },
  {
   "cell_type": "markdown",
   "metadata": {},
   "source": [
    "## Buscar capacitores C1-4"
   ]
  },
  {
   "cell_type": "code",
   "execution_count": 28,
   "metadata": {},
   "outputs": [
    {
     "name": "stdout",
     "output_type": "stream",
     "text": [
      "resolviendo:\n",
      "\tC1 = 118.6467306684989 pF\n",
      "\tC2 = 430.1247243743381 pF\n",
      "\tverif: C1///C2 == CT/2? (9.299480112849674e-11 == 9.299480112849674e-11), rrRa == 2*RT? (1069.6494666942526 == 1069.6494666942524)\n",
      "\n",
      "\tC3 = 1413.365538290862 pF\n",
      "\tC4 = 99.54450174933473 pF\n",
      "\tverif: C3///C4 == CT/2? (9.299480112849675e-11 == 9.299480112849674e-11), rrRL//Rp == 2*RT? (1069.6494666942526 == 1069.6494666942524)\n",
      "\n"
     ]
    }
   ],
   "source": [
    "# transformando circuito y reflejando al primario\n",
    "\"\"\" RT == rrRa // rrRL // Rp \"\"\"\n",
    "\"\"\"     rrRa == Ra * (1 + C2/C1)^2 == 2*RT \"\"\"\n",
    "\"\"\"     rrRL // Rp == 1/(1/rrRL + 1/Rp) == 2*RT\"\"\"\n",
    "\"\"\"         rrRL == RL * (1 + C4/C3)^2 \"\"\"\n",
    "\n",
    "# capacidad total\n",
    "\"\"\" CT == C1///C2 + C3///C4 == CT/2 + CT/2 \"\"\"\n",
    "\n",
    "# sistema de ecuaciones, buscar C1 y C2\n",
    "\"\"\" C1///C2 == 1/(1/C1 + 1/C2) == CT/2 \"\"\"\n",
    "\"\"\" rrRa == Ra * (1 + C2/C1)^2 == 2*RT \"\"\"\n",
    "\n",
    "# resolviendo a mano\n",
    "\"\"\" C2 == CT/2 * sqrt(2*RT/Ra) \"\"\"\n",
    "\"\"\" C1 == C2/(sqrt(2*RT/Ra) - 1) \"\"\"\n",
    "\n",
    "C2=CT/2 * np.sqrt(2*RT/Ra)\n",
    "C1=C2/(np.sqrt(2*RT/Ra) - 1)\n",
    "\n",
    "\n",
    "# sistema de ecuaciones, buscar C3 y C4\n",
    "\"\"\" C3///C4 == 1/(1/C3 + 1/C4) == CT/2 \"\"\"\n",
    "\"\"\" rrRL // Rp == 1/(1/rrRL + 1/Rp) == 2*RT\"\"\"\n",
    "\"\"\"     rrRL == RL * (1 + C4/C3)^2 \"\"\"\n",
    "\n",
    "# resolviendo a mano\n",
    "\"\"\" rrRL == 2*RT/(1 - 2*RT/Rp) \"\"\"\n",
    "\"\"\" C4 == CT/2 * sqrt(rrRL/RL) \"\"\"\n",
    "\"\"\" C3 == C4/(sqrt(rrRL/RL) - 1) \"\"\"\n",
    "\n",
    "rrRL=2*RT/(1 - 2*RT/Rp)\n",
    "C4=CT/2 * np.sqrt(rrRL/RL)\n",
    "C3=C4/(np.sqrt(rrRL/RL) - 1)\n",
    "\n",
    "print(\"resolviendo:\")\n",
    "print(f\"\\tC1 = {C1/1E-12} pF\")\n",
    "print(f\"\\tC2 = {C2/1E-12} pF\")\n",
    "\n",
    "print(f\"\\tverif: C1///C2 == CT/2? ({1/(1/C1 + 1/C2)} == {CT/2}), rrRa == 2*RT? ({Ra * (1 + C2/C1)**2} == {2*RT})\\n\")\n",
    "\n",
    "print(f\"\\tC3 = {C3/1E-12} pF\")\n",
    "print(f\"\\tC4 = {C4/1E-12} pF\")\n",
    "\n",
    "print(f\"\\tverif: C3///C4 == CT/2? ({1/(1/C3 + 1/C4)} == {CT/2}), rrRL//Rp == 2*RT? ({1/(1/Rp + 1/((RL * (1 + C4/C3)**2)))} == {2*RT})\\n\")"
   ]
  },
  {
   "cell_type": "markdown",
   "metadata": {},
   "source": [
    "## Normalizar componentes"
   ]
  },
  {
   "cell_type": "code",
   "execution_count": 29,
   "metadata": {},
   "outputs": [
    {
     "name": "stdout",
     "output_type": "stream",
     "text": [
      "capacidad normalizado total 187.89721723518852 pF\n",
      "\tresonando a 15.918573293329299 MHz\n",
      "\tfactor de merito 10.05345659771558\n"
     ]
    }
   ],
   "source": [
    "# si se normalizan las capacidades\n",
    "# C1n=120E-12\n",
    "# C2n=390E-12 + 47E-12\n",
    "# C3n=1800E-12\n",
    "# C4n=100E-12\n",
    "\n",
    "C1n=120E-12\n",
    "C2n=(390 + 47)*1E-12\n",
    "C3n=1500*1E-12\n",
    "C4n=100E-12\n",
    "\n",
    "# capacidad total\n",
    "CTn=(1/(1/C1n + 1/C2n)) + (1/(1/C3n + 1/C4n))\n",
    "print(f\"capacidad normalizado total {CTn/1E-12} pF\")\n",
    "\n",
    "# resonando a \n",
    "fon=1/(2*np.pi * np.sqrt(LT*CTn))\n",
    "print(f\"\\tresonando a {fon/1E6} MHz\")\n",
    "\n",
    "# factor Qparal\n",
    "rrRa=Ra*(1 + C2n/C1n)**2\n",
    "rrRL=RL*(1 + C4n/C3n)**2\n",
    "RT=1/(1/Rp + 1/rrRL + 1/rrRa)\n",
    "\n",
    "Qparal=RT/(2*np.pi*fon * LT)\n",
    "print(f\"\\tfactor de merito {Qparal}\")"
   ]
  },
  {
   "cell_type": "markdown",
   "metadata": {},
   "source": [
    "### ECUACIONES RELOCAS AUXILIARES"
   ]
  },
  {
   "cell_type": "code",
   "execution_count": 22,
   "metadata": {},
   "outputs": [
    {
     "name": "stdout",
     "output_type": "stream",
     "text": [
      "               1        \n",
      "ssfo = ─────────────────\n",
      "             ___________\n",
      "       2⋅π⋅╲╱ ssCT⋅ssLT \n",
      "ssfo = \\frac{1}{2 \\pi \\sqrt{ssCT ssLT}}\n",
      "\n",
      "resolviendo, LT == [1/(4*pi**2*ssCT*ssfo**2)]\n",
      "\n",
      "------------------------------------------------------------\n",
      "                   3           2\n",
      "ssLT = 0.001⋅ssDind ⋅ssK⋅ssNsop \n",
      "\n",
      "resolviendo, K == [1000.0*ssLT/(ssDind**3*ssNsop**2)]\n",
      "\n",
      "------------------------------------------------------------\n",
      "               1        \n",
      "ssfo = ─────────────────\n",
      "             ___________\n",
      "       2⋅π⋅╲╱ ssCT⋅ssLT \n",
      "\n",
      "resolviendo, CT == [1/(4*pi**2*ssLT*ssfo**2)]\n",
      "\n",
      "------------------------------------------------------------\n",
      "ssrrRa = ssRa \\left(1 + \\frac{ssC_{2}}{ssC_{1}}\\right)^{2}\n",
      "ssrrRL = ssRL \\left(1 + \\frac{ssC_{4}}{ssC_{3}}\\right)^{2}\n",
      "------------------------------------------------------------\n",
      "ssC_{2} = \\frac{\\sqrt{2} ssCT \\sqrt{\\frac{ssRT}{ssRa}}}{2}\n",
      "ssC_{1} = \\frac{ssC_{2}}{\\sqrt{2} \\sqrt{\\frac{ssRT}{ssRa}} - 1}\n",
      "ssrrRL = \\frac{2 ssRT}{- \\frac{2 ssRT}{ssRp} + 1}\n",
      "------------------------------------------------------------\n",
      "ssL = 0.001 ssDind^{3} ssK ssNsop^{2}\n",
      "------------------------------------------------------------\n"
     ]
    }
   ],
   "source": [
    "# frecuencia de resonancia, sacar LT\n",
    "\"\"\" fo = 1/(2*pi * sqrt(LT*CT)) \"\"\"\n",
    "ssfo,ssLT,ssCT=sp.symbols(\"ssfo,ssLT,ssCT\")\n",
    "\n",
    "ec0=sp.Eq(ssfo,1/(2*sp.pi*sp.sqrt(ssLT*ssCT)))\n",
    "sp.pprint(ec0)\n",
    "sp.print_latex(ec0)\n",
    "\n",
    "print(f\"\\nresolviendo, LT == {sp.solve(ec0,ssLT)}\\n\")\n",
    "print(\"-\"*60)\n",
    "# ----------------------------------------------------------------------------\n",
    "\n",
    "# ecuacion de nagaoka, sacar K\n",
    "\"\"\" L[uH] = (Dind[cm])^3 * (Nsop[vue/cm])^2 * K * 1E-3 \"\"\"\n",
    "ssLT,ssDind,ssNsop,ssK=sp.symbols(\"ssLT,ssDind,ssNsop,ssK\")\n",
    "\n",
    "ec1=sp.Eq(ssLT,ssDind**3 * ssNsop**2 * ssK * 1E-3)\n",
    "sp.pprint(ec1)\n",
    "\n",
    "print(f\"\\nresolviendo, K == {sp.solve(ec1,ssK)}\\n\")\n",
    "print(\"-\"*60)\n",
    "# ----------------------------------------------------------------------------\n",
    "\n",
    "# frecuencia de resonancia, sacar CT\n",
    "\"\"\" fo = 1/(2*pi * sqrt(LT*CT)) \"\"\"\n",
    "sp.pprint(ec0)\n",
    "\n",
    "print(f\"\\nresolviendo, CT == {sp.solve(ec0,ssCT)}\\n\")\n",
    "print(\"-\"*60)\n",
    "# ----------------------------------------------------------------------------\n",
    "\n",
    "# transformando circuito y reflejando al primario\n",
    "\"\"\" RT == rrRa // rrRL // Rp \"\"\"\n",
    "\"\"\"     rrRa == Ra * (1 + C2/C1)^2 == 2*RT \"\"\"\n",
    "\"\"\"     rrRL // Rp == 1/(1/rrRL + 1/Rp) == 2*RT\"\"\"\n",
    "\"\"\"         rrRL == RL * (1 + C4/C3)^2 \"\"\"\n",
    "\n",
    "ssrrRa,ssRa,ssC2,ssC1=sp.symbols(\"ssrrRa,ssRa,ssC2,ssC1\")\n",
    "ec1=sp.Eq(ssrrRa,ssRa * (1 + ssC2/ssC1)**2)\n",
    "sp.print_latex(ec1)\n",
    "\n",
    "ssrrRL,ssRL,ssC4,ssC3=sp.symbols(\"ssrrRL,ssRL,ssC4,ssC3\")\n",
    "ec2=sp.Eq(ssrrRL,ssRL * (1 + ssC4/ssC3)**2)\n",
    "sp.print_latex(ec2)\n",
    "\n",
    "print(\"-\"*60)\n",
    "\n",
    "# capacidad total\n",
    "\"\"\" CT == C1///C2 + C3///C4 == CT/2 + CT/2 \"\"\"\n",
    "\n",
    "# sistema de ecuaciones, buscar C1 y C2\n",
    "\"\"\" C1///C2 == 1/(1/C1 + 1/C2) == CT/2 \"\"\"\n",
    "\"\"\" rrRa == Ra * (1 + C2/C1)^2 == 2*RT \"\"\"\n",
    "\n",
    "# resolviendo a mano\n",
    "\"\"\" C2 == CT/2 * sqrt(2*RT/Ra) \"\"\"\n",
    "\"\"\" C1 == C2/(sqrt(2*RT/Ra) - 1) \"\"\"\n",
    "ssCT,ssRT=sp.symbols(\"ssCT,ssRT\")\n",
    "ec3=sp.Eq(ssC2,ssCT/2 * sp.sqrt(2*ssRT/ssRa))\n",
    "ec4=sp.Eq(ssC1,ssC2/(sp.sqrt(2*ssRT/ssRa) - 1))\n",
    "sp.print_latex(ec3)\n",
    "sp.print_latex(ec4)\n",
    "\n",
    "\n",
    "# sistema de ecuaciones, buscar C3 y C4\n",
    "\"\"\" C3///C4 == 1/(1/C3 + 1/C4) == CT/2 \"\"\"\n",
    "\"\"\" rrRL // Rp == 1/(1/rrRL + 1/Rp) == 2*RT\"\"\"\n",
    "\"\"\"     rrRL == RL * (1 + C4/C3)^2 \"\"\"\n",
    "\n",
    "# resolviendo a mano\n",
    "\"\"\" rrRL == 2*RT/(1 - 2*RT/Rp) \"\"\"\n",
    "\"\"\" C4 == CT/2 * sqrt(rrRL/RL) \"\"\"\n",
    "\"\"\" C3 == C4/(sqrt(rrRL/RL) - 1) \"\"\"\n",
    "ssRp=sp.symbols(\"ssRp\")\n",
    "ec5=sp.Eq(ssrrRL,2*ssRT/(1 - 2*ssRT/ssRp))\n",
    "sp.print_latex(ec5)\n",
    "print(\"-\"*60)\n",
    "\n",
    "# ---------------------------------------------------------------------\n",
    "\"\"\"L[uH] = (Dind[cm])^3 * (Nsop[vue/cm])^2 * K * 1E-3\"\"\"\n",
    "ssL,ssDind,ssNsop,ssK=sp.symbols(\"ssL,ssDind,ssNsop,ssK\")\n",
    "ec6=sp.Eq(ssL,ssDind**3 * ssNsop**2 * ssK * 1E-3)\n",
    "sp.print_latex(ec6)\n",
    "print(\"-\"*60)\n"
   ]
  },
  {
   "cell_type": "code",
   "execution_count": 21,
   "metadata": {},
   "outputs": [],
   "source": [
    "# imports\n",
    "import matplotlib.pyplot as plt\n",
    "%matplotlib qt5\n",
    "\n",
    "# grafico de la respuesta\n",
    "\n",
    "fax=np.arange(12.1,13.3,.1)\n",
    "amp=[2.6,3,3.4,3.7,4,4.2,4.23,4.1,3.8,3.6,3.2,3,2.6]\n",
    "amp=np.array(amp)\n",
    "\n",
    "# amp a dB\n",
    "amp=20*np.log10(amp/2)\n",
    "\n",
    "plt.figure()\n",
    "plt.title(\"Respuesta en frecuencia.\")\n",
    "plt.plot(fax,amp,label=\"Respuesta\")\n",
    "plt.xlabel(\"f (MHz)\")\n",
    "plt.ylabel(\"vo/vi (dB)\")\n",
    "plt.hlines(np.max(amp)-3,np.min(fax),np.max(fax),color=\"r\",label=\"BW\")\n",
    "plt.grid()\n",
    "plt.legend()\n",
    "\n",
    "plt.show()"
   ]
  }
 ],
 "metadata": {
  "interpreter": {
   "hash": "6b73abfbbecf72af9fed660ac2982926a78e3da32d139dac9b072e46ecc98b86"
  },
  "kernelspec": {
   "display_name": "Python 3.8.10 64-bit ('envPy38': venv)",
   "language": "python",
   "name": "python3"
  },
  "language_info": {
   "codemirror_mode": {
    "name": "ipython",
    "version": 3
   },
   "file_extension": ".py",
   "mimetype": "text/x-python",
   "name": "python",
   "nbconvert_exporter": "python",
   "pygments_lexer": "ipython3",
   "version": "3.8.10"
  },
  "orig_nbformat": 4
 },
 "nbformat": 4,
 "nbformat_minor": 2
}
