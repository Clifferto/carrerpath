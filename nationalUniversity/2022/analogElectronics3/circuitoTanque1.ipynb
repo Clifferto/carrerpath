{
 "cells": [
  {
   "cell_type": "markdown",
   "metadata": {},
   "source": [
    "# Diseño de acople sintonizado"
   ]
  },
  {
   "cell_type": "markdown",
   "metadata": {},
   "source": [
    "* Parametros\n",
    "* Fijar CT >> 10 4pF\n",
    "* Con fo sacar Lteo\n",
    "* Diseño y verificacion con curvas K/J\n",
    "* Fijar L, obtener su r y ajustar CT\n",
    "* Con el factor Q sacar RT\n",
    "* Con rrRa = 2RT, sacar relacion C2/C1\n",
    "* Con rrRL//r = 2RT, sacar relacion C4/C3"
   ]
  },
  {
   "cell_type": "code",
   "execution_count": 81,
   "metadata": {},
   "outputs": [],
   "source": [
    "import sympy as sp\n",
    "from sympy.core.compatibility import iterable\n",
    "import numpy as np\n",
    "\n",
    "# Funciones auxiliares\n",
    "def mem2mem(equation,opp):\n",
    "    \"\"\"mem2mem:\n",
    "        Aplica una operacion sencilla en ambos miembros de una ecuacion.\n",
    "\n",
    "    Args:\n",
    "        equation: Ecuacion a operar.\n",
    "        opp: Termino para operar en ambos miembros.\n",
    "\n",
    "    Returns: \n",
    "        Ecuacion de resultado luego de operar.\n",
    "    \"\"\"\n",
    "    sel=opp[0]\n",
    "    expr=sp.sympify(opp[1::])\n",
    "    \n",
    "    if sel==\"+\":\n",
    "        return sp.Eq(equation.lhs+expr,equation.rhs+expr)\n",
    "    elif sel==\"-\":\n",
    "        return sp.Eq(equation.lhs-expr,equation.rhs-expr)\n",
    "    elif sel==\"*\":\n",
    "        return sp.Eq(equation.lhs*expr,equation.rhs*expr)\n",
    "    elif sel==\"/\":\n",
    "        return sp.Eq(equation.lhs/expr,equation.rhs/expr)\n",
    "\n",
    "def disp(ecuaciones,titulo=\"\"):\n",
    "    \"\"\"disp:\n",
    "        Mostrar una ecuacion con titulo y separadores\n",
    "\n",
    "    Args:\n",
    "        ecuaciones: Ecuacion para imprimir\n",
    "        titulo: Titulo opcional a mostrar. Defaults to \"\".\n",
    "    \"\"\"\n",
    "    print(titulo + \"\\n\")\n",
    "    \n",
    "    if type(ecuaciones)!=iterable:\n",
    "        sp.pprint(ecuaciones,num_columns=200)\n",
    "    \n",
    "    else:\n",
    "        for ecc in ecuaciones:\n",
    "            sp.pprint(ecc,num_columns=200)\n",
    "\n",
    "    print(\"\\n\" + \"-\"*80)"
   ]
  },
  {
   "cell_type": "markdown",
   "metadata": {},
   "source": [
    "## Parametros"
   ]
  },
  {
   "cell_type": "code",
   "execution_count": 79,
   "metadata": {},
   "outputs": [
    {
     "name": "stdout",
     "output_type": "stream",
     "text": [
      "requerimientos: \n",
      "\tfrec de resonancia = 16.0 MHz, BW = 1.6 MHz \n",
      "\timpedancias entrada/salida 50 Ohm/1.0 kOhm\n",
      "\n",
      "se adopta un CT de 100.0 pF (25 veces 4pF)\n"
     ]
    }
   ],
   "source": [
    "# frec de resonancia, 1(ultimoNumDNI) MHz\n",
    "fo=16E6\n",
    "# ancho de banda, 10%fo\n",
    "BW=10*fo/100\n",
    "# impedancias\n",
    "Ra=50\n",
    "RL=1E3\n",
    "\n",
    "# como CT >> 10*4pF, fijar CT=25*4pF=100pF\n",
    "veces=25\n",
    "CT=4E-12*veces\n",
    "\n",
    "print(f\"requerimientos: \\n\\tfrec de resonancia = {fo/1E6} MHz, BW = {BW/1E6} MHz \\n\\timpedancias entrada/salida {Ra} Ohm/{RL/1E3} kOhm\\n\")\n",
    "print(f\"se adopta un CT de {CT/1E-12} pF ({veces} veces 4pF)\")"
   ]
  },
  {
   "cell_type": "markdown",
   "metadata": {},
   "source": [
    "## Sacar L (teorico)"
   ]
  },
  {
   "cell_type": "code",
   "execution_count": 80,
   "metadata": {},
   "outputs": [
    {
     "name": "stdout",
     "output_type": "stream",
     "text": [
      "Frecuencia de resonancia:\n",
      "\n",
      "               1        \n",
      "ssfo = ─────────────────\n",
      "             ___________\n",
      "       2⋅π⋅╲╱ ssCT⋅ssLT \n",
      "\n",
      "--------------------------------------------------------------------------------\n",
      "resolviendo para LT\n",
      "[1/(4*pi**2*ssCT*ssfo**2)]\n",
      "\n",
      "L(teorico) = 0.9894646840072047 uH.\n"
     ]
    }
   ],
   "source": [
    "# frec de resonancia\n",
    "\"\"\" fo = 1/(2*pi * sqrt(LT*CT)) \"\"\"\n",
    "ssfo,ssLT,ssCT=sp.symbols(\"ssfo,ssLT,ssCT\")\n",
    "ec0=sp.Eq(ssfo,1/(2*sp.pi*sp.sqrt(ssLT*ssCT)))\n",
    "disp(ec0,\"Frecuencia de resonancia:\")\n",
    "\n",
    "print(\"resolviendo para LT\")\n",
    "print(sp.solve(ec0,ssLT))\n",
    "\n",
    "# despejando LT\n",
    "\"\"\" 1/(4 * pi^2 * ssCo * ssfo^2) \"\"\"\n",
    "\n",
    "LT=1/(4*np.pi**2 * CT * fo**2)\n",
    "print(f\"\\nL(teorico) = {LT/1E-6} uH.\")"
   ]
  },
  {
   "cell_type": "markdown",
   "metadata": {},
   "source": [
    "## Diseño del inductor (curvas J/K)"
   ]
  },
  {
   "cell_type": "code",
   "execution_count": 77,
   "metadata": {},
   "outputs": [
    {
     "name": "stdout",
     "output_type": "stream",
     "text": [
      "para inductor de 0.1 uH, con nucleo de 1.0 cm y cobre de 1.0 mm\n",
      "\ttenemos un diametro de inductor de 1.0999999999999999 cm.\n",
      "\n",
      "------------------------------------------------------------\n",
      "Diseño, ecuacion K de Nagaoka:\n",
      "------------------------------------------------------------\n",
      "1.0999999999999999 7.092198581560284 0.1\n",
      "Coeficiente K: 1.493688955672427 (0.17426016983608478 en log).\n",
      "\n",
      "Entrando al g:J/K para el K de Nagaoka, nos da la relacion l/Dind: 1.12 aprox.\n",
      "\n",
      "Tenemos un inductor de 1.232 cm de largo y 8.73758865248227 vueltas.\n",
      "\n",
      "Corrijiendo a 9 espiras y 1.5 cm de largo, tenemor la nueva relacion l/dind 1.3636363636363638.\n",
      "\n",
      "------------------------------------------------------------ \n",
      "Verificacion, ecuacion J de Nagaoka: \n",
      "------------------------------------------------------------\n",
      "Entrando al g:J/K para la relacion l/Dind 1.3636363636363638, da un J de 9.\n",
      "Quedando un inductor de 0.40095 uH.\n",
      "\n",
      "inductancia teorica de: 0.6448799515671788 uH\n"
     ]
    }
   ],
   "source": [
    "# redondear inductancia [uH]\n",
    "LT=0.1\n",
    "\n",
    "# diametro del cobre 1mm\n",
    "Dcu=1E-3\n",
    "# diametro del nucleo de aire 1cm\n",
    "Dnuc=1E-2\n",
    "\n",
    "# diametro total del inductor [cm]\n",
    "Dind=(Dnuc+Dcu)/1E-2\n",
    "\n",
    "print(f\"para inductor de {LT} uH, con nucleo de {Dnuc/1E-2} cm y cobre de {Dcu/1E-3} mm\")\n",
    "print(f\"\\ttenemos un diametro de inductor de {Dind} cm.\\n\")\n",
    "\n",
    "# # verificar efecto pelicular, Dcu/d > 5\n",
    "# d=(6.62/(fo/1E6))*1E-2\n",
    "# # print(Dcu/d)\n",
    "# if Dcu/d <= 5: print(\"usar caño.\\n\".capitalize())\n",
    "# else: print(\"usar alambre.\\n\".capitalize())\n",
    "\n",
    "# criterio de separacion optima de Butterworth [vue/cm]\n",
    "\"\"\" Nsop = 1/(1.41 * Dcu[cm])\"\"\"\n",
    "Nsop=1/(1.41 * (Dcu/1E-2))\n",
    "\n",
    "# ----------------------------------------------------------------------------------\n",
    "# diseño, ecuacion K de nagaoka\n",
    "print(\"-\"*60)\n",
    "print(\"Diseño, ecuacion K de Nagaoka:\")\n",
    "print(\"-\"*60)\n",
    "\n",
    "\"\"\" L[uH] = (Dind[cm])^3 * (Nsop[vue/cm])^2 * K * 1E-3 \"\"\"\n",
    "\n",
    "K=LT/(Dind**3 * Nsop**2 * 1E-3)\n",
    "print(Dind,Nsop,LT)\n",
    "print(f\"Coeficiente K: {K} ({np.log10(K)} en log).\\n\")\n",
    "\n",
    "# entrar a grafica K\n",
    "relLD=1.12\n",
    "print(f\"Entrando al g:J/K para el K de Nagaoka, nos da la relacion l/Dind: {relLD} aprox.\\n\")\n",
    "\n",
    "# largo del inductor teorico\n",
    "l=relLD*Dind\n",
    "# numero de espiras teorico\n",
    "N=Nsop*l\n",
    "\n",
    "print(f\"tenemos un inductor de {l} cm de largo y {N} vueltas.\\n\".capitalize())\n",
    "\n",
    "# correjir largo [cm] y numero de espiras\n",
    "l=1.5\n",
    "N=9\n",
    "relLD=l/Dind\n",
    "\n",
    "print(f\"corrijiendo a {N} espiras y {l} cm de largo, tenemor la nueva relacion l/Dind {relLD}.\\n\".capitalize())\n",
    "\n",
    "# verificacion, ecuacion J de Nagaoka\n",
    "\"\"\" L[uH] = N^2 * (Dind [cm])/2 * J * 1E-3 \"\"\"\n",
    "print(f\"{'-'*60} \\nVerificacion, ecuacion J de Nagaoka: \\n{'-'*60}\")\n",
    "\n",
    "J=9\n",
    "L=(N**2) * Dind/2 * J * 1E-3\n",
    "print(f\"Entrando al g:J/K para la relacion l/Dind {relLD}, da un J de {J}.\\nQuedando un inductor de {L} uH.\\n\")\n",
    "\n",
    "# inductancia teorica\n",
    "\"\"\" L=(uo * Aind * N^2)/l \"\"\"\n",
    "Aind=np.pi*((Dind*1E-2)/2)**2\n",
    "print(f\"inductancia teorica de: {( ((4*np.pi*1E-7)*Aind*N**2)/(l*1E-2) )/1E-6} uH\")\n",
    "\n",
    "# inductancia a H\n",
    "L=L*1E-6"
   ]
  },
  {
   "cell_type": "markdown",
   "metadata": {},
   "source": [
    "## Calcular R del inductor"
   ]
  },
  {
   "cell_type": "code",
   "execution_count": 11,
   "metadata": {},
   "outputs": [
    {
     "name": "stdout",
     "output_type": "stream",
     "text": [
      "resistencia del inductor 0.002155467225282157 Ohm (2.1554672252821567 mOhm) aprox.\n",
      "\n"
     ]
    }
   ],
   "source": [
    "# resistividad del cobre [ohm/m]\n",
    "pcu=1.71E-8\n",
    "# long de alambre aprox. [m]\n",
    "lcu=Dind*N*1E-2\n",
    "# seccion de cobre [m^2]\n",
    "scu=np.pi*(Dcu/2)**2\n",
    "\n",
    "# resitencia del inductor aprox.\n",
    "\"\"\" R = (pcu * lcu)/Sn  \"\"\"\n",
    "r=pcu*lcu/scu\n",
    "\n",
    "print(f\"resistencia del inductor {r} Ohm ({r/1E-3} mOhm) aprox.\\n\")"
   ]
  },
  {
   "cell_type": "markdown",
   "metadata": {},
   "source": [
    "## Correjir C"
   ]
  },
  {
   "cell_type": "code",
   "execution_count": 12,
   "metadata": {},
   "outputs": [
    {
     "name": "stdout",
     "output_type": "stream",
     "text": [
      "               1        \n",
      "ssfo = ─────────────────\n",
      "             ___________\n",
      "       2⋅π⋅╲╱ ssCo⋅ssLo \n",
      "\n",
      "despejando, CT = [1/(4*pi**2*ssLo*ssfo**2)]\n",
      "\n",
      "correjido a C=246.78006833949496 pF.\n",
      "\n"
     ]
    }
   ],
   "source": [
    "# ajustar nuevo valor de C\n",
    "sp.pprint(ec0)\n",
    "\n",
    "print(f\"\\ndespejando, CT = {sp.solve(ec0,ssCo)}\")\n",
    "\n",
    "\"\"\" 1/(4*pi^2 * L * fo^2 )\"\"\"\n",
    "C=1/((4*np.pi**2)*L*fo**2)\n",
    "\n",
    "print(f\"\\ncorrejido a C={C/1E-12} pF.\\n\")"
   ]
  },
  {
   "cell_type": "markdown",
   "metadata": {},
   "source": [
    "## Calcular RT con factor Q"
   ]
  },
  {
   "cell_type": "code",
   "execution_count": 38,
   "metadata": {},
   "outputs": [
    {
     "name": "stdout",
     "output_type": "stream",
     "text": [
      "para respetar BW, se necesita una RT de 4.030789038261847 Ohm.\n",
      "\n",
      "10.0 4.030789038261847\n"
     ]
    }
   ],
   "source": [
    "# factor de merito del inductor\n",
    "\"\"\" Q = XLo/RT = fo/BW \"\"\"\n",
    "Q=fo/BW\n",
    "\n",
    "RT=2*np.pi*fo*L/Q\n",
    "\n",
    "print(f\"para respetar BW, se necesita una RT de {RT} Ohm.\\n\")\n",
    "print(Q,RT)"
   ]
  },
  {
   "cell_type": "markdown",
   "metadata": {},
   "source": [
    "## Buscar relacion C2/C1"
   ]
  },
  {
   "cell_type": "code",
   "execution_count": 41,
   "metadata": {},
   "outputs": [
    {
     "name": "stdout",
     "output_type": "stream",
     "text": [
      "                        2\n",
      "              ⎛    ssC₂⎞ \n",
      "2⋅ssRT = ssRa⋅⎜1 + ────⎟ \n",
      "              ⎝    ssC₁⎠ \n",
      "\n",
      "despejando relacion C1/C2:\n",
      "[(-ssRa + sqrt(2)*sqrt(ssRT*ssRa))/ssRa, -(ssRa + sqrt(2)*sqrt(ssRT*ssRa))/ssRa]\n",
      "-0.5984634991305599\n"
     ]
    }
   ],
   "source": [
    "# transformando circuito y reflejando: Ra -> rrRa = Ra * (1+C2/C1)^2 = 2RT\n",
    "\n",
    "\"\"\" 2*RT = Ra * (1+C2/C1)^2 \"\"\"\n",
    "ssRT,ssRa,ssC1,ssC2=sp.symbols(\"ssRT,ssRa,ssC1,ssC2\")\n",
    "ec1=sp.Eq(2*ssRT,ssRa*(1+ssC2/ssC1)**2)\n",
    "\n",
    "sp.pprint(ec1)\n",
    "\n",
    "# despejando relacion C1/C2\n",
    "print(\"\\ndespejando relacion C1/C2:\")\n",
    "print(sp.solve(ec1,(ssC2/ssC1)))\n",
    "\n",
    "\"\"\" C2/C1 = sqrt(2*ssRT/ssRa) - 1 \"\"\"\n",
    "relC21=np.sqrt(2*RT/Ra) - 1\n",
    "\n",
    "print(relC21)"
   ]
  },
  {
   "cell_type": "code",
   "execution_count": 42,
   "metadata": {},
   "outputs": [
    {
     "ename": "SyntaxError",
     "evalue": "invalid syntax (3820261186.py, line 1)",
     "output_type": "error",
     "traceback": [
      "\u001b[0;36m  File \u001b[0;32m\"/tmp/ipykernel_3344/3820261186.py\"\u001b[0;36m, line \u001b[0;32m1\u001b[0m\n\u001b[0;31m    Primer relacion C2/C1 negativa.\u001b[0m\n\u001b[0m           ^\u001b[0m\n\u001b[0;31mSyntaxError\u001b[0m\u001b[0;31m:\u001b[0m invalid syntax\n"
     ]
    }
   ],
   "source": [
    "Primer relacion C2/C1 negativa.\n",
    "2*RT/Ra < 1 -> subir RT -> subir LT -> bajar CT -> cambiar de 50 * 4pF a 20 * 4pF"
   ]
  }
 ],
 "metadata": {
  "interpreter": {
   "hash": "6b73abfbbecf72af9fed660ac2982926a78e3da32d139dac9b072e46ecc98b86"
  },
  "kernelspec": {
   "display_name": "Python 3.8.10 64-bit ('envPy38': venv)",
   "language": "python",
   "name": "python3"
  },
  "language_info": {
   "codemirror_mode": {
    "name": "ipython",
    "version": 3
   },
   "file_extension": ".py",
   "mimetype": "text/x-python",
   "name": "python",
   "nbconvert_exporter": "python",
   "pygments_lexer": "ipython3",
   "version": "3.8.10"
  },
  "orig_nbformat": 4
 },
 "nbformat": 4,
 "nbformat_minor": 2
}
