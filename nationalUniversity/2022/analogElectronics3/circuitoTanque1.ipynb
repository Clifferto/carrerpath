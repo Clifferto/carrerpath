{
 "cells": [
  {
   "cell_type": "markdown",
   "metadata": {},
   "source": [
    "# Diseño de acople sintonizado"
   ]
  },
  {
   "cell_type": "code",
   "execution_count": 1,
   "metadata": {},
   "outputs": [],
   "source": [
    "import sympy as sp\n",
    "from sympy.core.compatibility import iterable\n",
    "import numpy as np\n",
    "\n",
    "# Funciones auxiliares\n",
    "def mem2mem(equation,opp):\n",
    "    \"\"\"mem2mem:\n",
    "        Aplica una operacion sencilla en ambos miembros de una ecuacion.\n",
    "\n",
    "    Args:\n",
    "        equation: Ecuacion a operar.\n",
    "        opp: Termino para operar en ambos miembros.\n",
    "\n",
    "    Returns: \n",
    "        Ecuacion de resultado luego de operar.\n",
    "    \"\"\"\n",
    "    sel=opp[0]\n",
    "    expr=sp.sympify(opp[1::])\n",
    "    \n",
    "    if sel==\"+\":\n",
    "        return sp.Eq(equation.lhs+expr,equation.rhs+expr)\n",
    "    elif sel==\"-\":\n",
    "        return sp.Eq(equation.lhs-expr,equation.rhs-expr)\n",
    "    elif sel==\"*\":\n",
    "        return sp.Eq(equation.lhs*expr,equation.rhs*expr)\n",
    "    elif sel==\"/\":\n",
    "        return sp.Eq(equation.lhs/expr,equation.rhs/expr)\n",
    "\n",
    "def disp(ecuaciones,titulo=\"\"):\n",
    "    \"\"\"disp:\n",
    "        Mostrar una ecuacion con titulo y separadores\n",
    "\n",
    "    Args:\n",
    "        ecuaciones: Ecuacion para imprimir\n",
    "        titulo: Titulo opcional a mostrar. Defaults to \"\".\n",
    "    \"\"\"\n",
    "    print(titulo + \"\\n\")\n",
    "    \n",
    "    if type(ecuaciones)!=iterable:\n",
    "        sp.pprint(ecuaciones,num_columns=200)\n",
    "    \n",
    "    else:\n",
    "        for ecc in ecuaciones:\n",
    "            sp.pprint(ecc,num_columns=200)\n",
    "\n",
    "    print(\"\\n\" + \"-\"*80)"
   ]
  },
  {
   "cell_type": "markdown",
   "metadata": {},
   "source": [
    "## Parametros"
   ]
  },
  {
   "cell_type": "code",
   "execution_count": 130,
   "metadata": {},
   "outputs": [
    {
     "name": "stdout",
     "output_type": "stream",
     "text": [
      "requerimientos: \n",
      "\tfrec de resonancia = 16.0 MHz, BW = 1.6 MHz \n",
      "\timpedancias entrada/salida 50 Ohm/1.0 kOhm\n",
      "\n",
      "se adopta un CT de 188.0 pF\n"
     ]
    }
   ],
   "source": [
    "# frec de resonancia, 1(ultimoNumDNI) MHz\n",
    "fo=16E6\n",
    "# ancho de banda, 10%fo\n",
    "BW=10*fo/100\n",
    "# impedancias\n",
    "Ra=50\n",
    "RL=1E3\n",
    "\n",
    "# asumir una CT inicial para cumplir la fo, tratando de crear un inductor cuadrado\n",
    "# CT=200E-12\n",
    "CT=188E-12\n",
    "\n",
    "print(f\"requerimientos: \\n\\tfrec de resonancia = {fo/1E6} MHz, BW = {BW/1E6} MHz \\n\\timpedancias entrada/salida {Ra} Ohm/{RL/1E3} kOhm\\n\")\n",
    "print(f\"se adopta un CT de {CT/1E-12} pF\")"
   ]
  },
  {
   "cell_type": "markdown",
   "metadata": {},
   "source": [
    "## Sacar L (teorico)"
   ]
  },
  {
   "cell_type": "code",
   "execution_count": 136,
   "metadata": {},
   "outputs": [
    {
     "name": "stdout",
     "output_type": "stream",
     "text": [
      "\n",
      "L(teorico) = 0.526311002131492 uH.\n"
     ]
    }
   ],
   "source": [
    "# despejando LT\n",
    "\"\"\" 1/(4 * pi^2 * CT * fo^2) \"\"\"\n",
    "\n",
    "LT=1/(4*np.pi**2 * CT * fo**2)\n",
    "print(f\"\\nL(teorico) = {LT/1E-6} uH.\")\n",
    "\n",
    "# pasar inductancia a [uH]\n",
    "LT=LT/1E-6"
   ]
  },
  {
   "cell_type": "markdown",
   "metadata": {},
   "source": [
    "## Diseño del inductor (curvas J/K)"
   ]
  },
  {
   "cell_type": "code",
   "execution_count": 140,
   "metadata": {},
   "outputs": [
    {
     "name": "stdout",
     "output_type": "stream",
     "text": [
      "para inductor de 0.5171039826965331 uH, con nucleo de 1 cm y cobre de 1.2 mm\n",
      "\ttenemos un diametro de inductor de 1.1199999999999999 cm.\n",
      "\n",
      "------------------------------------------------------------\n",
      "Diseño, ecuacion K de Nagaoka:\n",
      "------------------------------------------------------------\n",
      "Coeficiente K: 10.537183231585727 (1.0227245320843135 en log).\n",
      "\n",
      "Entrando al g:J/K para el K de Nagaoka, nos da la relacion l/Dind: 1.350000023841858 aprox.\n",
      "\n",
      "Tenemos un inductor de 1.5120000267028808 cm de largo y 8.936170370584403 vueltas.\n",
      "\n",
      "Corrijiendo a 9.0 espiras, tenemos la nueva relacion l/dind 1.350000023841858.\n",
      "\n",
      "------------------------------------------------------------ \n",
      "Verificacion, ecuacion J de Nagaoka: \n",
      "------------------------------------------------------------\n",
      "Entrando al g:J/K para la relacion l/Dind 1.350000023841858, da un J de 11.399999618530273.\n",
      "Quedando un inductor de 0.5171039826965331 uH.\n",
      "\n",
      "inductancia teorica de: 0.6632374040400109 uH\n"
     ]
    }
   ],
   "source": [
    "# diametro del cobre [mm]\n",
    "Dcu=1.2E-3\n",
    "# diametro del nucleo de aire [cm]\n",
    "Dnuc=1\n",
    "\n",
    "# diametro total del inductor [cm]\n",
    "Dind=Dnuc+Dcu/1E-2\n",
    "\n",
    "print(f\"para inductor de {LT} uH, con nucleo de {Dnuc} cm y cobre de {Dcu/1E-3} mm\")\n",
    "print(f\"\\ttenemos un diametro de inductor de {Dind} cm.\\n\")\n",
    "\n",
    "# criterio de separacion optima de Butterworth [vue/cm]\n",
    "\"\"\" Nsop = 1/(1.41 * Dcu[cm])\"\"\"\n",
    "Nsop=1/(1.41 * (Dcu/1E-2))\n",
    "# para armarlo se separa con el mismo alambre y se apreta hasta llegar al largo calculado\n",
    "\n",
    "# ----------------------------------------------------------------------------------\n",
    "# diseño, ecuacion K de nagaoka\n",
    "print(\"-\"*60)\n",
    "print(\"Diseño, ecuacion K de Nagaoka:\")\n",
    "print(\"-\"*60)\n",
    "\n",
    "\"\"\" L[uH] = (Dind[cm])^3 * (Nsop[vue/cm])^2 * K * 1E-3 \"\"\"\n",
    "\n",
    "\"\"\" K == 1000.0 * LT/((Dind[cm])^3 * (Nsop[vue/cm]^2)) \"\"\"\n",
    "K=1000.0*LT/((Dind**3) * (Nsop**2))\n",
    "print(f\"Coeficiente K: {K} ({np.log10(K)} en log).\\n\")\n",
    "\n",
    "# entrar a grafica K\n",
    "relLD=np.float32(input(\"relacion l/D de la tabla >>\"))\n",
    "print(f\"Entrando al g:J/K para el K de Nagaoka, nos da la relacion l/Dind: {relLD} aprox.\\n\")\n",
    "\n",
    "# largo del inductor teorico\n",
    "l=relLD*Dind\n",
    "# numero de espiras teorico\n",
    "N=Nsop*l\n",
    "\n",
    "print(f\"tenemos un inductor de {l} cm de largo y {N} vueltas.\\n\".capitalize())\n",
    "\n",
    "# correjir numero de espiras\n",
    "N=np.float32(input(\"redondear numero de vueltas >> \"))\n",
    "relLD=l/Dind\n",
    "\n",
    "print(f\"corrijiendo a {N} espiras, tenemos la nueva relacion l/Dind {relLD}.\\n\".capitalize())\n",
    "\n",
    "# ----------------------------------------------------------------------------------\n",
    "# verificacion, ecuacion J de Nagaoka\n",
    "print(f\"{'-'*60} \\nVerificacion, ecuacion J de Nagaoka: \\n{'-'*60}\")\n",
    "\n",
    "J=np.float32(input(f\"J para relacion l/D = {relLD} (log {np.log10(relLD)})\"))\n",
    "\n",
    "\"\"\" L[uH] = N^2 * (Dind [cm])/2 * J * 1E-3 \"\"\"\n",
    "LT=(N**2) * Dind/2 * J * 1E-3\n",
    "print(f\"Entrando al g:J/K para la relacion l/Dind {relLD}, da un J de {J}.\\nQuedando un inductor de {LT} uH.\\n\")\n",
    "\n",
    "# inductancia teorica\n",
    "\"\"\" L=(uo * Aind * N^2)/l \"\"\"\n",
    "Aind=np.pi*((Dind*1E-2)/2)**2\n",
    "print(f\"inductancia teorica de: {( ((4*np.pi*1E-7) * Aind * N**2)/(l*1E-2) )/1E-6} uH\")\n",
    "\n",
    "# inductancia a [H]\n",
    "LT=LT*1E-6"
   ]
  },
  {
   "cell_type": "markdown",
   "metadata": {},
   "source": [
    "## Correjir C"
   ]
  },
  {
   "cell_type": "code",
   "execution_count": 141,
   "metadata": {},
   "outputs": [
    {
     "name": "stdout",
     "output_type": "stream",
     "text": [
      "\n",
      "correjido a CT = 191.34733382780394 pF.\n",
      "\n",
      "\tresonancia en 16.0  MHz\n",
      "\n"
     ]
    }
   ],
   "source": [
    "# ajustar nuevo valor de C\n",
    "\"\"\" CT == 1/(4 * pi^2 * LT * fo^2) \"\"\"\n",
    "\n",
    "CT=1/(4* (np.pi**2) * LT * (fo**2))\n",
    "\n",
    "print(f\"\\ncorrejido a CT = {CT/1E-12} pF.\\n\")\n",
    "\n",
    "# resonancia\n",
    "print(f\"\\tresonancia en {(1/(2*np.pi*np.sqrt(LT*CT))/1E6)}  MHz\\n\")"
   ]
  },
  {
   "cell_type": "markdown",
   "metadata": {},
   "source": [
    "## Calcular R de perdidas segun nagaoka"
   ]
  },
  {
   "cell_type": "code",
   "execution_count": 142,
   "metadata": {},
   "outputs": [
    {
     "name": "stdout",
     "output_type": "stream",
     "text": [
      "resistencia de perdidas 15.229801447489223 KOhm\n",
      "\n"
     ]
    }
   ],
   "source": [
    "# Q decargado del inductor\n",
    "\"\"\" Qd == 8850 * sqrt(fo[MHz]) * (Dind[cm] * l[cm])/(102*l[cm] + 45*Dind[cm]) \"\"\"\n",
    "Qd=8850 * np.sqrt(fo/1E6) * (Dind*l)/(102*l + 45*Dind)\n",
    "\n",
    "# resistencia de perdida\n",
    "\"\"\" Rp = Qd * 2*pi*fo * L \"\"\"\n",
    "Rp=Qd * 2*np.pi*fo * LT\n",
    "\n",
    "print(f\"resistencia de perdidas {Rp/1E3} KOhm\\n\")"
   ]
  },
  {
   "cell_type": "markdown",
   "metadata": {},
   "source": [
    "## Sacar resistencia total"
   ]
  },
  {
   "cell_type": "code",
   "execution_count": 143,
   "metadata": {},
   "outputs": [
    {
     "name": "stdout",
     "output_type": "stream",
     "text": [
      "para un Qparalelo = 10.0, tenemos una RT de 519.8496234180647\n"
     ]
    }
   ],
   "source": [
    "# factor Q para RLC en paralelo es inverso al RLC serie\n",
    "\"\"\" Q == RT/XLo == fo/BW\"\"\"\n",
    "Qparal=fo/BW\n",
    "\n",
    "# resistencia total para este BW\n",
    "RT=Qparal * 2*np.pi*fo * LT\n",
    "\n",
    "print(f\"para un Qparalelo = {Qparal}, tenemos una RT de {RT}\")"
   ]
  },
  {
   "cell_type": "markdown",
   "metadata": {},
   "source": [
    "## Buscar capacitores C1-4"
   ]
  },
  {
   "cell_type": "code",
   "execution_count": 144,
   "metadata": {},
   "outputs": [
    {
     "name": "stdout",
     "output_type": "stream",
     "text": [
      "resolviendo, C1 = 122.54797382657193 pF y C2 = 436.27595930034664 pF\n",
      "\tverif: 9.567366691390197e-11 == 9.567366691390197e-11, 1039.6992468361293 == 1039.6992468361293\n",
      "\n",
      "resolviendo, C3 = 1793.4920956065616 pF y C4 = 101.06496811906118 pF\n",
      "\tverif: 9.567366691390197e-11 == 9.567366691390197e-11, 1039.6992468361295 == 1039.6992468361293\n",
      "\n",
      "1115.877311559431\n"
     ]
    }
   ],
   "source": [
    "# transformando circuito y reflejando al primario\n",
    "\"\"\" RT == rrRa // rrRL // Rp \"\"\"\n",
    "\"\"\"     rrRa == Ra * (1 + C2/C1)^2 == 2*RT \"\"\"\n",
    "\"\"\"     rrRL // Rp == 1/(1/rrRL + 1/Rp) == 2*RT\"\"\"\n",
    "\"\"\"         rrRL == RL * (1 + C4/C3)^2 \"\"\"\n",
    "\n",
    "# capacidad total\n",
    "\"\"\" CT == C1///C2 + C3///C4 == CT/2 + CT/2 \"\"\"\n",
    "\n",
    "# sistema de ecuaciones, buscar C1 y C2\n",
    "\"\"\" C1///C2 == 1/(1/C1 + 1/C2) == CT/2 \"\"\"\n",
    "\"\"\" rrRa == Ra * (1 + C2/C1)^2 == 2*RT \"\"\"\n",
    "\n",
    "# resolviendo a mano\n",
    "\"\"\" C2 == CT/2 * sqrt(2*RT/Ra) \"\"\"\n",
    "\"\"\" C1 == C2/(sqrt(2*RT/Ra) - 1) \"\"\"\n",
    "\n",
    "C2=CT/2 * np.sqrt(2*RT/Ra)\n",
    "C1=C2/(np.sqrt(2*RT/Ra) - 1)\n",
    "\n",
    "print(f\"resolviendo, C1 = {C1/1E-12} pF y C2 = {C2/1E-12} pF\")\n",
    "\n",
    "print(f\"\\tverif: {1/(1/C1 + 1/C2)} == {CT/2}, {Ra * (1 + C2/C1)**2} == {2*RT}\\n\")\n",
    "\n",
    "# sistema de ecuaciones, buscar C3 y C4\n",
    "\"\"\" C3///C4 == 1/(1/C3 + 1/C4) == CT/2 \"\"\"\n",
    "\"\"\" rrRL // Rp == 1/(1/rrRL + 1/Rp) == 2*RT\"\"\"\n",
    "\"\"\"     rrRL == RL * (1 + C4/C3)^2 \"\"\"\n",
    "\n",
    "# resolviendo a mano\n",
    "\"\"\" rrRL == 2*RT/(1 - 2*RT/Rp) \"\"\"\n",
    "\"\"\" C4 == CT/2 * sqrt(rrRL/RL) \"\"\"\n",
    "\"\"\" C3 == C4/(sqrt(rrRL/RL) - 1) \"\"\"\n",
    "\n",
    "rrRL=2*RT/(1 - 2*RT/Rp)\n",
    "C4=CT/2 * np.sqrt(rrRL/RL)\n",
    "C3=C4/(np.sqrt(rrRL/RL) - 1)\n",
    "\n",
    "print(f\"resolviendo, C3 = {C3/1E-12} pF y C4 = {C4/1E-12} pF\")\n",
    "\n",
    "print(f\"\\tverif: {1/(1/C3 + 1/C4)} == {CT/2}, {1/(1/Rp + 1/((RL * (1 + C4/C3)**2)))} == {2*RT}\\n\")\n",
    "\n",
    "print(f\"{RL * (1 + C4/C3)**2}\")\n"
   ]
  },
  {
   "cell_type": "markdown",
   "metadata": {},
   "source": [
    "## Normalizar componentes"
   ]
  },
  {
   "cell_type": "code",
   "execution_count": 145,
   "metadata": {},
   "outputs": [
    {
     "name": "stdout",
     "output_type": "stream",
     "text": [
      "capacidad normalizado total 188.8840593404517 pF\n",
      "\tresonando a 16.10399164131311 MHz\n",
      "\tfactor de merito 10.104454217274471\n"
     ]
    }
   ],
   "source": [
    "# si se normalizan las capacidades\n",
    "C1n=120E-12\n",
    "C2n=390E-12 + 47E-12\n",
    "C3n=1800E-12\n",
    "C4n=100E-12\n",
    "\n",
    "# capacidad total\n",
    "CTn=(1/(1/C1n + 1/C2n)) + (1/(1/C3n + 1/C4n))\n",
    "print(f\"capacidad normalizado total {CTn/1E-12} pF\")\n",
    "\n",
    "# resonando a \n",
    "fon=1/(2*np.pi * np.sqrt(LT*CTn))\n",
    "print(f\"\\tresonando a {fon/1E6} MHz\")\n",
    "\n",
    "# factor Qparal\n",
    "rrRa=Ra*(1 + C2n/C1n)**2\n",
    "rrRL=RL*(1 + C4n/C3n)**2\n",
    "RT=1/(1/Rp + 1/rrRL + 1/rrRa)\n",
    "\n",
    "Qparal=RT/(2*np.pi*fon * LT)\n",
    "print(f\"\\tfactor de merito {Qparal}\")"
   ]
  },
  {
   "cell_type": "markdown",
   "metadata": {},
   "source": [
    "### ECUACIONES RELOCAS AUXILIARES"
   ]
  },
  {
   "cell_type": "code",
   "execution_count": 60,
   "metadata": {},
   "outputs": [
    {
     "name": "stdout",
     "output_type": "stream",
     "text": [
      "               1        \n",
      "ssfo = ─────────────────\n",
      "             ___________\n",
      "       2⋅π⋅╲╱ ssCT⋅ssLT \n",
      "\n",
      "resolviendo, LT == [1/(4*pi**2*ssCT*ssfo**2)]\n",
      "\n",
      "------------------------------------------------------------\n",
      "                   3           2\n",
      "ssLT = 0.001⋅ssDind ⋅ssK⋅ssNsop \n",
      "\n",
      "resolviendo, K == [1000.0*ssLT/(ssDind**3*ssNsop**2)]\n",
      "\n",
      "------------------------------------------------------------\n",
      "               1        \n",
      "ssfo = ─────────────────\n",
      "             ___________\n",
      "       2⋅π⋅╲╱ ssCT⋅ssLT \n",
      "\n",
      "resolviendo, CT == [1/(4*pi**2*ssLT*ssfo**2)]\n",
      "\n",
      "------------------------------------------------------------\n"
     ]
    },
    {
     "data": {
      "text/plain": [
       "'         rrRL == RL * (1 + C4/C3)^2 '"
      ]
     },
     "execution_count": 60,
     "metadata": {},
     "output_type": "execute_result"
    }
   ],
   "source": [
    "# frecuencia de resonancia, sacar LT\n",
    "\"\"\" fo = 1/(2*pi * sqrt(LT*CT)) \"\"\"\n",
    "ssfo,ssLT,ssCT=sp.symbols(\"ssfo,ssLT,ssCT\")\n",
    "\n",
    "ec0=sp.Eq(ssfo,1/(2*sp.pi*sp.sqrt(ssLT*ssCT)))\n",
    "sp.pprint(ec0)\n",
    "\n",
    "print(f\"\\nresolviendo, LT == {sp.solve(ec0,ssLT)}\\n\")\n",
    "print(\"-\"*60)\n",
    "# ----------------------------------------------------------------------------\n",
    "\n",
    "# ecuacion de nagaoka, sacar K\n",
    "\"\"\" L[uH] = (Dind[cm])^3 * (Nsop[vue/cm])^2 * K * 1E-3 \"\"\"\n",
    "ssLT,ssDind,ssNsop,ssK=sp.symbols(\"ssLT,ssDind,ssNsop,ssK\")\n",
    "\n",
    "ec1=sp.Eq(ssLT,ssDind**3 * ssNsop**2 * ssK * 1E-3)\n",
    "sp.pprint(ec1)\n",
    "\n",
    "print(f\"\\nresolviendo, K == {sp.solve(ec1,ssK)}\\n\")\n",
    "print(\"-\"*60)\n",
    "# ----------------------------------------------------------------------------\n",
    "\n",
    "# frecuencia de resonancia, sacar CT\n",
    "\"\"\" fo = 1/(2*pi * sqrt(LT*CT)) \"\"\"\n",
    "sp.pprint(ec0)\n",
    "\n",
    "print(f\"\\nresolviendo, CT == {sp.solve(ec0,ssCT)}\\n\")\n",
    "print(\"-\"*60)\n",
    "# ----------------------------------------------------------------------------\n",
    "\n",
    "\n",
    "\"\"\" RT == rrRa // rrRL // Rp \"\"\"\n",
    "\"\"\"     rrRa == Ra * (1 + C2/C1)^2 == 2*RT \"\"\"\n",
    "\"\"\"     rrRL // Rp == 1/(1/rrRL + 1/Rp) == 2*RT\"\"\"\n",
    "\"\"\"         rrRL == RL * (1 + C4/C3)^2 \"\"\"\n"
   ]
  }
 ],
 "metadata": {
  "interpreter": {
   "hash": "6b73abfbbecf72af9fed660ac2982926a78e3da32d139dac9b072e46ecc98b86"
  },
  "kernelspec": {
   "display_name": "Python 3.8.10 64-bit ('envPy38': venv)",
   "language": "python",
   "name": "python3"
  },
  "language_info": {
   "codemirror_mode": {
    "name": "ipython",
    "version": 3
   },
   "file_extension": ".py",
   "mimetype": "text/x-python",
   "name": "python",
   "nbconvert_exporter": "python",
   "pygments_lexer": "ipython3",
   "version": "3.8.10"
  },
  "orig_nbformat": 4
 },
 "nbformat": 4,
 "nbformat_minor": 2
}
